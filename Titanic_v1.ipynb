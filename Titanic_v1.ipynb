{
  "cells": [
    {
      "metadata": {
        "_uuid": "8f2839f25d086af736a60e9eeb907d3b93b6e0e5",
        "_cell_guid": "b1076dfc-b9ad-4769-8c92-a6c4dae69d19",
        "trusted": true
      },
      "cell_type": "code",
      "source": "# This Python 3 environment comes with many helpful analytics libraries installed\n# It is defined by the kaggle/python docker image: https://github.com/kaggle/docker-python\n# For example, here's several helpful packages to load in \n\nimport numpy as np # linear algebra\nimport pandas as pd # data processing, CSV file I/O (e.g. pd.read_csv)\n\n# Input data files are available in the \"../input/\" directory.\n# For example, running this (by clicking run or pressing Shift+Enter) will list the files in the input directory\n\nimport os\nprint(os.listdir(\"../input\"))\n\nimport warnings\nwarnings.filterwarnings('ignore')\n\n# Any results you write to the current directory are saved as output.",
      "execution_count": 1,
      "outputs": [
        {
          "output_type": "stream",
          "text": "['train.csv', 'gender_submission.csv', 'test.csv']\n",
          "name": "stdout"
        }
      ]
    },
    {
      "metadata": {
        "trusted": true,
        "_uuid": "c896f169004454b50b888ec1c5e150c6350b0780"
      },
      "cell_type": "code",
      "source": "#Load Titanic data\n\ndef load_titanic_data(filename):\n    return pd.read_csv(filename)",
      "execution_count": 2,
      "outputs": []
    },
    {
      "metadata": {
        "trusted": true,
        "_uuid": "9fadeb6b2dc518839d513e7f5e5a066151d5cc12"
      },
      "cell_type": "code",
      "source": "train_data = load_titanic_data(\"../input/train.csv\")\ntest_data = load_titanic_data(\"../input/test.csv\")",
      "execution_count": 3,
      "outputs": []
    },
    {
      "metadata": {
        "trusted": true,
        "_uuid": "86dea2c243ff7dc472d78ca92d35e7d9693cb4f4"
      },
      "cell_type": "code",
      "source": "train_data.head()",
      "execution_count": 4,
      "outputs": [
        {
          "output_type": "execute_result",
          "execution_count": 4,
          "data": {
            "text/plain": "   PassengerId  Survived  Pclass    ...        Fare Cabin  Embarked\n0            1         0       3    ...      7.2500   NaN         S\n1            2         1       1    ...     71.2833   C85         C\n2            3         1       3    ...      7.9250   NaN         S\n3            4         1       1    ...     53.1000  C123         S\n4            5         0       3    ...      8.0500   NaN         S\n\n[5 rows x 12 columns]",
            "text/html": "<div>\n<style scoped>\n    .dataframe tbody tr th:only-of-type {\n        vertical-align: middle;\n    }\n\n    .dataframe tbody tr th {\n        vertical-align: top;\n    }\n\n    .dataframe thead th {\n        text-align: right;\n    }\n</style>\n<table border=\"1\" class=\"dataframe\">\n  <thead>\n    <tr style=\"text-align: right;\">\n      <th></th>\n      <th>PassengerId</th>\n      <th>Survived</th>\n      <th>Pclass</th>\n      <th>Name</th>\n      <th>Sex</th>\n      <th>Age</th>\n      <th>SibSp</th>\n      <th>Parch</th>\n      <th>Ticket</th>\n      <th>Fare</th>\n      <th>Cabin</th>\n      <th>Embarked</th>\n    </tr>\n  </thead>\n  <tbody>\n    <tr>\n      <th>0</th>\n      <td>1</td>\n      <td>0</td>\n      <td>3</td>\n      <td>Braund, Mr. Owen Harris</td>\n      <td>male</td>\n      <td>22.0</td>\n      <td>1</td>\n      <td>0</td>\n      <td>A/5 21171</td>\n      <td>7.2500</td>\n      <td>NaN</td>\n      <td>S</td>\n    </tr>\n    <tr>\n      <th>1</th>\n      <td>2</td>\n      <td>1</td>\n      <td>1</td>\n      <td>Cumings, Mrs. John Bradley (Florence Briggs Th...</td>\n      <td>female</td>\n      <td>38.0</td>\n      <td>1</td>\n      <td>0</td>\n      <td>PC 17599</td>\n      <td>71.2833</td>\n      <td>C85</td>\n      <td>C</td>\n    </tr>\n    <tr>\n      <th>2</th>\n      <td>3</td>\n      <td>1</td>\n      <td>3</td>\n      <td>Heikkinen, Miss. Laina</td>\n      <td>female</td>\n      <td>26.0</td>\n      <td>0</td>\n      <td>0</td>\n      <td>STON/O2. 3101282</td>\n      <td>7.9250</td>\n      <td>NaN</td>\n      <td>S</td>\n    </tr>\n    <tr>\n      <th>3</th>\n      <td>4</td>\n      <td>1</td>\n      <td>1</td>\n      <td>Futrelle, Mrs. Jacques Heath (Lily May Peel)</td>\n      <td>female</td>\n      <td>35.0</td>\n      <td>1</td>\n      <td>0</td>\n      <td>113803</td>\n      <td>53.1000</td>\n      <td>C123</td>\n      <td>S</td>\n    </tr>\n    <tr>\n      <th>4</th>\n      <td>5</td>\n      <td>0</td>\n      <td>3</td>\n      <td>Allen, Mr. William Henry</td>\n      <td>male</td>\n      <td>35.0</td>\n      <td>0</td>\n      <td>0</td>\n      <td>373450</td>\n      <td>8.0500</td>\n      <td>NaN</td>\n      <td>S</td>\n    </tr>\n  </tbody>\n</table>\n</div>"
          },
          "metadata": {}
        }
      ]
    },
    {
      "metadata": {
        "_uuid": "171294bdeaec79f40f96208ed76a2572ab8143eb"
      },
      "cell_type": "markdown",
      "source": "The attributes have the following meaning:\n\n**Survived:** that's the target, 0 means the passenger did not survive, while 1 means he/she survived.\n\n**Pclass:** passenger class.\n\n**Name, Sex, Age:** self-explanatory\n\n**SibSp:** how many siblings & spouses of the passenger aboard the Titanic.\n\n**Parch:** how many children & parents of the passenger aboard the Titanic.\n\n**Ticket:** ticket id\n\n**Fare:** price paid (in pounds)\n\n**Cabin:** passenger's cabin number\n\n**Embarked:** where the passenger embarked the Titanic\n"
    },
    {
      "metadata": {
        "trusted": true,
        "_uuid": "117659973a667cb411d7dec5e31564ad1e54593f"
      },
      "cell_type": "code",
      "source": "#data info\n\ntrain_data.info()",
      "execution_count": 5,
      "outputs": [
        {
          "output_type": "stream",
          "text": "<class 'pandas.core.frame.DataFrame'>\nRangeIndex: 891 entries, 0 to 890\nData columns (total 12 columns):\nPassengerId    891 non-null int64\nSurvived       891 non-null int64\nPclass         891 non-null int64\nName           891 non-null object\nSex            891 non-null object\nAge            714 non-null float64\nSibSp          891 non-null int64\nParch          891 non-null int64\nTicket         891 non-null object\nFare           891 non-null float64\nCabin          204 non-null object\nEmbarked       889 non-null object\ndtypes: float64(2), int64(5), object(5)\nmemory usage: 83.6+ KB\n",
          "name": "stdout"
        }
      ]
    },
    {
      "metadata": {
        "_uuid": "2c0d207ef311c956b69b0360820154b2deced85a"
      },
      "cell_type": "markdown",
      "source": "**Age**, **Cabin** and **Embarked** have missing values.\n\n**Age** data is missing about **19%**, **Cabin** data is missing by **77%** ( we will ignore this column for now), **Embarked** is missing only **2 values.** We can impute Embarked by highest occuring value in the data. \n**Age** can be replaced by median values $(?)$\n\nAlso , **Name** and **Ticket** Data is **object** type, so we need to check if we get some information out of it in the later part."
    },
    {
      "metadata": {
        "trusted": true,
        "_uuid": "54bcb5d3a2bcee62567da7a6df1981966b2eb5e5"
      },
      "cell_type": "code",
      "source": "#Embarked\n\ntrain_data[\"Embarked\"].value_counts()",
      "execution_count": 6,
      "outputs": [
        {
          "output_type": "execute_result",
          "execution_count": 6,
          "data": {
            "text/plain": "S    644\nC    168\nQ     77\nName: Embarked, dtype: int64"
          },
          "metadata": {}
        }
      ]
    },
    {
      "metadata": {
        "trusted": true,
        "_uuid": "bfc41cfa1c85c25d0ed6986ae6752277b106ac84"
      },
      "cell_type": "code",
      "source": "#Replace NaN in Embarked by category S\n\ntrain_data[\"Embarked\"].fillna('S', inplace=True)\n",
      "execution_count": 7,
      "outputs": []
    },
    {
      "metadata": {
        "trusted": true,
        "_uuid": "8ad03d43b99429564f9d709a734fb2d40548711a"
      },
      "cell_type": "code",
      "source": "#Get Median Age and replace NaN with Median Age\n\nage_median = train_data[\"Age\"].median()\nage_median\n\ntrain_data[\"Age\"].fillna(age_median, inplace=True)",
      "execution_count": 8,
      "outputs": []
    },
    {
      "metadata": {
        "trusted": true,
        "_uuid": "e31e6a94b65f212f6665f86b61c5ad6b90697e75"
      },
      "cell_type": "code",
      "source": "#Let's describe the data now.\n\ntrain_data.describe()",
      "execution_count": 9,
      "outputs": [
        {
          "output_type": "execute_result",
          "execution_count": 9,
          "data": {
            "text/plain": "       PassengerId    Survived     ...           Parch        Fare\ncount   891.000000  891.000000     ...      891.000000  891.000000\nmean    446.000000    0.383838     ...        0.381594   32.204208\nstd     257.353842    0.486592     ...        0.806057   49.693429\nmin       1.000000    0.000000     ...        0.000000    0.000000\n25%     223.500000    0.000000     ...        0.000000    7.910400\n50%     446.000000    0.000000     ...        0.000000   14.454200\n75%     668.500000    1.000000     ...        0.000000   31.000000\nmax     891.000000    1.000000     ...        6.000000  512.329200\n\n[8 rows x 7 columns]",
            "text/html": "<div>\n<style scoped>\n    .dataframe tbody tr th:only-of-type {\n        vertical-align: middle;\n    }\n\n    .dataframe tbody tr th {\n        vertical-align: top;\n    }\n\n    .dataframe thead th {\n        text-align: right;\n    }\n</style>\n<table border=\"1\" class=\"dataframe\">\n  <thead>\n    <tr style=\"text-align: right;\">\n      <th></th>\n      <th>PassengerId</th>\n      <th>Survived</th>\n      <th>Pclass</th>\n      <th>Age</th>\n      <th>SibSp</th>\n      <th>Parch</th>\n      <th>Fare</th>\n    </tr>\n  </thead>\n  <tbody>\n    <tr>\n      <th>count</th>\n      <td>891.000000</td>\n      <td>891.000000</td>\n      <td>891.000000</td>\n      <td>891.000000</td>\n      <td>891.000000</td>\n      <td>891.000000</td>\n      <td>891.000000</td>\n    </tr>\n    <tr>\n      <th>mean</th>\n      <td>446.000000</td>\n      <td>0.383838</td>\n      <td>2.308642</td>\n      <td>29.361582</td>\n      <td>0.523008</td>\n      <td>0.381594</td>\n      <td>32.204208</td>\n    </tr>\n    <tr>\n      <th>std</th>\n      <td>257.353842</td>\n      <td>0.486592</td>\n      <td>0.836071</td>\n      <td>13.019697</td>\n      <td>1.102743</td>\n      <td>0.806057</td>\n      <td>49.693429</td>\n    </tr>\n    <tr>\n      <th>min</th>\n      <td>1.000000</td>\n      <td>0.000000</td>\n      <td>1.000000</td>\n      <td>0.420000</td>\n      <td>0.000000</td>\n      <td>0.000000</td>\n      <td>0.000000</td>\n    </tr>\n    <tr>\n      <th>25%</th>\n      <td>223.500000</td>\n      <td>0.000000</td>\n      <td>2.000000</td>\n      <td>22.000000</td>\n      <td>0.000000</td>\n      <td>0.000000</td>\n      <td>7.910400</td>\n    </tr>\n    <tr>\n      <th>50%</th>\n      <td>446.000000</td>\n      <td>0.000000</td>\n      <td>3.000000</td>\n      <td>28.000000</td>\n      <td>0.000000</td>\n      <td>0.000000</td>\n      <td>14.454200</td>\n    </tr>\n    <tr>\n      <th>75%</th>\n      <td>668.500000</td>\n      <td>1.000000</td>\n      <td>3.000000</td>\n      <td>35.000000</td>\n      <td>1.000000</td>\n      <td>0.000000</td>\n      <td>31.000000</td>\n    </tr>\n    <tr>\n      <th>max</th>\n      <td>891.000000</td>\n      <td>1.000000</td>\n      <td>3.000000</td>\n      <td>80.000000</td>\n      <td>8.000000</td>\n      <td>6.000000</td>\n      <td>512.329200</td>\n    </tr>\n  </tbody>\n</table>\n</div>"
          },
          "metadata": {}
        }
      ]
    },
    {
      "metadata": {
        "_uuid": "34cd4dd8a0c6f93ec340efe82061da460b3c9cee"
      },
      "cell_type": "markdown",
      "source": "All Numerical columns are free of **NaN** now."
    },
    {
      "metadata": {
        "_uuid": "07880f05234b22d5f03e9dd6a49d76dce058cc6b"
      },
      "cell_type": "markdown",
      "source": "Let's makes some notes of data distribution now.\n\n* Mean for survived is 38%, This means only 38% of the passengers survived.\n* Average Fare is $32, Average Age is 29 years."
    },
    {
      "metadata": {
        "trusted": true,
        "_uuid": "017a6d0b76e5834b75af5022493ba00944507353"
      },
      "cell_type": "code",
      "source": "#A quick look at categorical features.\n\n#Pclass\n\ntrain_data[\"Pclass\"].value_counts()",
      "execution_count": 10,
      "outputs": [
        {
          "output_type": "execute_result",
          "execution_count": 10,
          "data": {
            "text/plain": "3    491\n1    216\n2    184\nName: Pclass, dtype: int64"
          },
          "metadata": {}
        }
      ]
    },
    {
      "metadata": {
        "trusted": true,
        "_uuid": "9491ee14ef4a14220dd430b12c209cfc37848fc7"
      },
      "cell_type": "code",
      "source": "#Let's see how is the distribution for survived passengers.\n\ntrain_data[['Pclass', 'Survived']].groupby(['Pclass'], as_index=False).mean().sort_values(by='Survived', ascending=False)",
      "execution_count": 11,
      "outputs": [
        {
          "output_type": "execute_result",
          "execution_count": 11,
          "data": {
            "text/plain": "   Pclass  Survived\n0       1  0.629630\n1       2  0.472826\n2       3  0.242363",
            "text/html": "<div>\n<style scoped>\n    .dataframe tbody tr th:only-of-type {\n        vertical-align: middle;\n    }\n\n    .dataframe tbody tr th {\n        vertical-align: top;\n    }\n\n    .dataframe thead th {\n        text-align: right;\n    }\n</style>\n<table border=\"1\" class=\"dataframe\">\n  <thead>\n    <tr style=\"text-align: right;\">\n      <th></th>\n      <th>Pclass</th>\n      <th>Survived</th>\n    </tr>\n  </thead>\n  <tbody>\n    <tr>\n      <th>0</th>\n      <td>1</td>\n      <td>0.629630</td>\n    </tr>\n    <tr>\n      <th>1</th>\n      <td>2</td>\n      <td>0.472826</td>\n    </tr>\n    <tr>\n      <th>2</th>\n      <td>3</td>\n      <td>0.242363</td>\n    </tr>\n  </tbody>\n</table>\n</div>"
          },
          "metadata": {}
        }
      ]
    },
    {
      "metadata": {
        "_uuid": "c271ad1d7045a91d3e4dba3df6901fa520338e08"
      },
      "cell_type": "markdown",
      "source": "**Observation:** Higher the class, greater the chance of survival"
    },
    {
      "metadata": {
        "trusted": true,
        "_uuid": "d0b8becddb68d120ba4c33078d2eb4a63154db88"
      },
      "cell_type": "code",
      "source": "#Sex\n\ntrain_data[\"Sex\"].value_counts()\n",
      "execution_count": 12,
      "outputs": [
        {
          "output_type": "execute_result",
          "execution_count": 12,
          "data": {
            "text/plain": "male      577\nfemale    314\nName: Sex, dtype: int64"
          },
          "metadata": {}
        }
      ]
    },
    {
      "metadata": {
        "trusted": true,
        "_uuid": "811a6af131a8fc49d9a9226b110f951be8dd1ca7"
      },
      "cell_type": "code",
      "source": "train_data[['Sex', 'Survived']].groupby(['Sex'], as_index=False).mean().sort_values(by='Survived', ascending=False)",
      "execution_count": 13,
      "outputs": [
        {
          "output_type": "execute_result",
          "execution_count": 13,
          "data": {
            "text/plain": "      Sex  Survived\n0  female  0.742038\n1    male  0.188908",
            "text/html": "<div>\n<style scoped>\n    .dataframe tbody tr th:only-of-type {\n        vertical-align: middle;\n    }\n\n    .dataframe tbody tr th {\n        vertical-align: top;\n    }\n\n    .dataframe thead th {\n        text-align: right;\n    }\n</style>\n<table border=\"1\" class=\"dataframe\">\n  <thead>\n    <tr style=\"text-align: right;\">\n      <th></th>\n      <th>Sex</th>\n      <th>Survived</th>\n    </tr>\n  </thead>\n  <tbody>\n    <tr>\n      <th>0</th>\n      <td>female</td>\n      <td>0.742038</td>\n    </tr>\n    <tr>\n      <th>1</th>\n      <td>male</td>\n      <td>0.188908</td>\n    </tr>\n  </tbody>\n</table>\n</div>"
          },
          "metadata": {}
        }
      ]
    },
    {
      "metadata": {
        "_uuid": "7182aee8a3e7d3a84a616140a57e5f7948adf3ed"
      },
      "cell_type": "markdown",
      "source": "**Observation:** : Females has very high chnaces of survival as compared to males"
    },
    {
      "metadata": {
        "trusted": true,
        "_uuid": "e20c7356490e00b48521e2252b3080446fe5d2cf"
      },
      "cell_type": "code",
      "source": "#Embarked\n\ntrain_data[\"Embarked\"].value_counts()\ntrain_data[['Embarked', 'Survived']].groupby(['Embarked'], as_index=False).mean().sort_values(by='Survived', ascending=False)",
      "execution_count": 14,
      "outputs": [
        {
          "output_type": "execute_result",
          "execution_count": 14,
          "data": {
            "text/plain": "  Embarked  Survived\n0        C  0.553571\n1        Q  0.389610\n2        S  0.339009",
            "text/html": "<div>\n<style scoped>\n    .dataframe tbody tr th:only-of-type {\n        vertical-align: middle;\n    }\n\n    .dataframe tbody tr th {\n        vertical-align: top;\n    }\n\n    .dataframe thead th {\n        text-align: right;\n    }\n</style>\n<table border=\"1\" class=\"dataframe\">\n  <thead>\n    <tr style=\"text-align: right;\">\n      <th></th>\n      <th>Embarked</th>\n      <th>Survived</th>\n    </tr>\n  </thead>\n  <tbody>\n    <tr>\n      <th>0</th>\n      <td>C</td>\n      <td>0.553571</td>\n    </tr>\n    <tr>\n      <th>1</th>\n      <td>Q</td>\n      <td>0.389610</td>\n    </tr>\n    <tr>\n      <th>2</th>\n      <td>S</td>\n      <td>0.339009</td>\n    </tr>\n  </tbody>\n</table>\n</div>"
          },
          "metadata": {}
        }
      ]
    },
    {
      "metadata": {
        "_uuid": "c99d1fe4799ed02512f152d9d27a510fa3796fae"
      },
      "cell_type": "markdown",
      "source": "**Observation:**: From initial summary, it looks like even port of embarkment is related to survival chances"
    },
    {
      "metadata": {
        "_uuid": "c06845ddbe5976480d4a9d920105e397ea0c631c"
      },
      "cell_type": "markdown",
      "source": "We will also need an imputer for string categorical values, "
    },
    {
      "metadata": {
        "trusted": true,
        "_uuid": "975e1db8c29a9db37077df884adda07ddefb2b92"
      },
      "cell_type": "code",
      "source": "train_data.head() ",
      "execution_count": 15,
      "outputs": [
        {
          "output_type": "execute_result",
          "execution_count": 15,
          "data": {
            "text/plain": "   PassengerId  Survived  Pclass    ...        Fare Cabin  Embarked\n0            1         0       3    ...      7.2500   NaN         S\n1            2         1       1    ...     71.2833   C85         C\n2            3         1       3    ...      7.9250   NaN         S\n3            4         1       1    ...     53.1000  C123         S\n4            5         0       3    ...      8.0500   NaN         S\n\n[5 rows x 12 columns]",
            "text/html": "<div>\n<style scoped>\n    .dataframe tbody tr th:only-of-type {\n        vertical-align: middle;\n    }\n\n    .dataframe tbody tr th {\n        vertical-align: top;\n    }\n\n    .dataframe thead th {\n        text-align: right;\n    }\n</style>\n<table border=\"1\" class=\"dataframe\">\n  <thead>\n    <tr style=\"text-align: right;\">\n      <th></th>\n      <th>PassengerId</th>\n      <th>Survived</th>\n      <th>Pclass</th>\n      <th>Name</th>\n      <th>Sex</th>\n      <th>Age</th>\n      <th>SibSp</th>\n      <th>Parch</th>\n      <th>Ticket</th>\n      <th>Fare</th>\n      <th>Cabin</th>\n      <th>Embarked</th>\n    </tr>\n  </thead>\n  <tbody>\n    <tr>\n      <th>0</th>\n      <td>1</td>\n      <td>0</td>\n      <td>3</td>\n      <td>Braund, Mr. Owen Harris</td>\n      <td>male</td>\n      <td>22.0</td>\n      <td>1</td>\n      <td>0</td>\n      <td>A/5 21171</td>\n      <td>7.2500</td>\n      <td>NaN</td>\n      <td>S</td>\n    </tr>\n    <tr>\n      <th>1</th>\n      <td>2</td>\n      <td>1</td>\n      <td>1</td>\n      <td>Cumings, Mrs. John Bradley (Florence Briggs Th...</td>\n      <td>female</td>\n      <td>38.0</td>\n      <td>1</td>\n      <td>0</td>\n      <td>PC 17599</td>\n      <td>71.2833</td>\n      <td>C85</td>\n      <td>C</td>\n    </tr>\n    <tr>\n      <th>2</th>\n      <td>3</td>\n      <td>1</td>\n      <td>3</td>\n      <td>Heikkinen, Miss. Laina</td>\n      <td>female</td>\n      <td>26.0</td>\n      <td>0</td>\n      <td>0</td>\n      <td>STON/O2. 3101282</td>\n      <td>7.9250</td>\n      <td>NaN</td>\n      <td>S</td>\n    </tr>\n    <tr>\n      <th>3</th>\n      <td>4</td>\n      <td>1</td>\n      <td>1</td>\n      <td>Futrelle, Mrs. Jacques Heath (Lily May Peel)</td>\n      <td>female</td>\n      <td>35.0</td>\n      <td>1</td>\n      <td>0</td>\n      <td>113803</td>\n      <td>53.1000</td>\n      <td>C123</td>\n      <td>S</td>\n    </tr>\n    <tr>\n      <th>4</th>\n      <td>5</td>\n      <td>0</td>\n      <td>3</td>\n      <td>Allen, Mr. William Henry</td>\n      <td>male</td>\n      <td>35.0</td>\n      <td>0</td>\n      <td>0</td>\n      <td>373450</td>\n      <td>8.0500</td>\n      <td>NaN</td>\n      <td>S</td>\n    </tr>\n  </tbody>\n</table>\n</div>"
          },
          "metadata": {}
        }
      ]
    },
    {
      "metadata": {
        "trusted": true,
        "scrolled": true,
        "_uuid": "fcba65adf02878ba60acacdf4ee46ff383cda89c"
      },
      "cell_type": "code",
      "source": "#Drop columns Cabin, Name, PassengerId, Ticket\n\ntrain_data.drop([\"PassengerId\",\"Name\", \"Ticket\", \"Cabin\"], axis =1, inplace=True)",
      "execution_count": 16,
      "outputs": []
    },
    {
      "metadata": {
        "trusted": true,
        "_uuid": "2f98375e0b1a85f7ef8b5902fbfca154a6b0f719"
      },
      "cell_type": "code",
      "source": "train_data.head()",
      "execution_count": 17,
      "outputs": [
        {
          "output_type": "execute_result",
          "execution_count": 17,
          "data": {
            "text/plain": "   Survived  Pclass     Sex   Age  SibSp  Parch     Fare Embarked\n0         0       3    male  22.0      1      0   7.2500        S\n1         1       1  female  38.0      1      0  71.2833        C\n2         1       3  female  26.0      0      0   7.9250        S\n3         1       1  female  35.0      1      0  53.1000        S\n4         0       3    male  35.0      0      0   8.0500        S",
            "text/html": "<div>\n<style scoped>\n    .dataframe tbody tr th:only-of-type {\n        vertical-align: middle;\n    }\n\n    .dataframe tbody tr th {\n        vertical-align: top;\n    }\n\n    .dataframe thead th {\n        text-align: right;\n    }\n</style>\n<table border=\"1\" class=\"dataframe\">\n  <thead>\n    <tr style=\"text-align: right;\">\n      <th></th>\n      <th>Survived</th>\n      <th>Pclass</th>\n      <th>Sex</th>\n      <th>Age</th>\n      <th>SibSp</th>\n      <th>Parch</th>\n      <th>Fare</th>\n      <th>Embarked</th>\n    </tr>\n  </thead>\n  <tbody>\n    <tr>\n      <th>0</th>\n      <td>0</td>\n      <td>3</td>\n      <td>male</td>\n      <td>22.0</td>\n      <td>1</td>\n      <td>0</td>\n      <td>7.2500</td>\n      <td>S</td>\n    </tr>\n    <tr>\n      <th>1</th>\n      <td>1</td>\n      <td>1</td>\n      <td>female</td>\n      <td>38.0</td>\n      <td>1</td>\n      <td>0</td>\n      <td>71.2833</td>\n      <td>C</td>\n    </tr>\n    <tr>\n      <th>2</th>\n      <td>1</td>\n      <td>3</td>\n      <td>female</td>\n      <td>26.0</td>\n      <td>0</td>\n      <td>0</td>\n      <td>7.9250</td>\n      <td>S</td>\n    </tr>\n    <tr>\n      <th>3</th>\n      <td>1</td>\n      <td>1</td>\n      <td>female</td>\n      <td>35.0</td>\n      <td>1</td>\n      <td>0</td>\n      <td>53.1000</td>\n      <td>S</td>\n    </tr>\n    <tr>\n      <th>4</th>\n      <td>0</td>\n      <td>3</td>\n      <td>male</td>\n      <td>35.0</td>\n      <td>0</td>\n      <td>0</td>\n      <td>8.0500</td>\n      <td>S</td>\n    </tr>\n  </tbody>\n</table>\n</div>"
          },
          "metadata": {}
        }
      ]
    },
    {
      "metadata": {
        "_uuid": "5a3a6a9f6df6cc4038e6fcd13200842ff2ae41c7"
      },
      "cell_type": "markdown",
      "source": "* First we will import Label encoder and changed categorical values into numerical values as per the category.\n* Second, we will call OneHotEncoder and changed required variables into hot encoding.\n* Third, we will concate the original data set with hot encoding values dataset.\n* Fouth, we will remove unneccesary columns."
    },
    {
      "metadata": {
        "trusted": true,
        "_uuid": "15df18b003dbcfc701bd291c77a5eac00b09fefb"
      },
      "cell_type": "code",
      "source": "from sklearn.preprocessing import LabelEncoder\n\nle_pClass = LabelEncoder()\nle_sex = LabelEncoder()\nle_embarked = LabelEncoder()\ntrain_data['PClass_encoded'] = le_pClass.fit_transform(train_data.Pclass)\ntrain_data['Sex_encoded'] = le_sex.fit_transform(train_data.Sex)\ntrain_data['Embarked_encoded'] = le_embarked.fit_transform(train_data.Embarked)\n\ntrain_data.head()",
      "execution_count": 18,
      "outputs": [
        {
          "output_type": "execute_result",
          "execution_count": 18,
          "data": {
            "text/plain": "   Survived  Pclass        ...        Sex_encoded  Embarked_encoded\n0         0       3        ...                  1                 2\n1         1       1        ...                  0                 0\n2         1       3        ...                  0                 2\n3         1       1        ...                  0                 2\n4         0       3        ...                  1                 2\n\n[5 rows x 11 columns]",
            "text/html": "<div>\n<style scoped>\n    .dataframe tbody tr th:only-of-type {\n        vertical-align: middle;\n    }\n\n    .dataframe tbody tr th {\n        vertical-align: top;\n    }\n\n    .dataframe thead th {\n        text-align: right;\n    }\n</style>\n<table border=\"1\" class=\"dataframe\">\n  <thead>\n    <tr style=\"text-align: right;\">\n      <th></th>\n      <th>Survived</th>\n      <th>Pclass</th>\n      <th>Sex</th>\n      <th>Age</th>\n      <th>SibSp</th>\n      <th>Parch</th>\n      <th>Fare</th>\n      <th>Embarked</th>\n      <th>PClass_encoded</th>\n      <th>Sex_encoded</th>\n      <th>Embarked_encoded</th>\n    </tr>\n  </thead>\n  <tbody>\n    <tr>\n      <th>0</th>\n      <td>0</td>\n      <td>3</td>\n      <td>male</td>\n      <td>22.0</td>\n      <td>1</td>\n      <td>0</td>\n      <td>7.2500</td>\n      <td>S</td>\n      <td>2</td>\n      <td>1</td>\n      <td>2</td>\n    </tr>\n    <tr>\n      <th>1</th>\n      <td>1</td>\n      <td>1</td>\n      <td>female</td>\n      <td>38.0</td>\n      <td>1</td>\n      <td>0</td>\n      <td>71.2833</td>\n      <td>C</td>\n      <td>0</td>\n      <td>0</td>\n      <td>0</td>\n    </tr>\n    <tr>\n      <th>2</th>\n      <td>1</td>\n      <td>3</td>\n      <td>female</td>\n      <td>26.0</td>\n      <td>0</td>\n      <td>0</td>\n      <td>7.9250</td>\n      <td>S</td>\n      <td>2</td>\n      <td>0</td>\n      <td>2</td>\n    </tr>\n    <tr>\n      <th>3</th>\n      <td>1</td>\n      <td>1</td>\n      <td>female</td>\n      <td>35.0</td>\n      <td>1</td>\n      <td>0</td>\n      <td>53.1000</td>\n      <td>S</td>\n      <td>0</td>\n      <td>0</td>\n      <td>2</td>\n    </tr>\n    <tr>\n      <th>4</th>\n      <td>0</td>\n      <td>3</td>\n      <td>male</td>\n      <td>35.0</td>\n      <td>0</td>\n      <td>0</td>\n      <td>8.0500</td>\n      <td>S</td>\n      <td>2</td>\n      <td>1</td>\n      <td>2</td>\n    </tr>\n  </tbody>\n</table>\n</div>"
          },
          "metadata": {}
        }
      ]
    },
    {
      "metadata": {
        "trusted": true,
        "_uuid": "65972679b5a751befeda6b989df93f6711b3dc13"
      },
      "cell_type": "code",
      "source": "#One hot encoding for categorical columns (PClass, Sex, Embarked)\n\nfrom sklearn.preprocessing import OneHotEncoder\n\npClass_ohe = OneHotEncoder()\nsex_ohe = OneHotEncoder()\nembarked_ohe = OneHotEncoder()\n\nXp =pClass_ohe.fit_transform(train_data.PClass_encoded.values.reshape(-1,1)).toarray()\nXs =sex_ohe.fit_transform(train_data.Sex_encoded.values.reshape(-1,1)).toarray()\nXe =embarked_ohe.fit_transform(train_data.Embarked_encoded.values.reshape(-1,1)).toarray()\n",
      "execution_count": 19,
      "outputs": []
    },
    {
      "metadata": {
        "trusted": true,
        "_uuid": "165bf5c539131aeabed1e87206ea53c0cdc2a0b3"
      },
      "cell_type": "code",
      "source": "#Add back to original dataframe\n\ntrain_dataOneHot = pd.DataFrame(Xp, columns = [\"PClass_\"+str(int(i)) for i in range(Xp.shape[1])])\ntrain_data = pd.concat([train_data, train_dataOneHot], axis=1)\n\ntrain_dataOneHot = pd.DataFrame(Xs, columns = [\"Sex_\"+str(int(i)) for i in range(Xs.shape[1])])\ntrain_data = pd.concat([train_data, train_dataOneHot], axis=1)\n\ntrain_dataOneHot = pd.DataFrame(Xe, columns = [\"Embarked_\"+str(int(i)) for i in range(Xe.shape[1])])\ntrain_data = pd.concat([train_data, train_dataOneHot], axis=1)",
      "execution_count": 20,
      "outputs": []
    },
    {
      "metadata": {
        "trusted": true,
        "_uuid": "567c4ae993f57174151a74c6631be112d7396f2b"
      },
      "cell_type": "code",
      "source": "train_data.head()",
      "execution_count": 21,
      "outputs": [
        {
          "output_type": "execute_result",
          "execution_count": 21,
          "data": {
            "text/plain": "   Survived  Pclass     Sex     ...      Embarked_0  Embarked_1  Embarked_2\n0         0       3    male     ...             0.0         0.0         1.0\n1         1       1  female     ...             1.0         0.0         0.0\n2         1       3  female     ...             0.0         0.0         1.0\n3         1       1  female     ...             0.0         0.0         1.0\n4         0       3    male     ...             0.0         0.0         1.0\n\n[5 rows x 19 columns]",
            "text/html": "<div>\n<style scoped>\n    .dataframe tbody tr th:only-of-type {\n        vertical-align: middle;\n    }\n\n    .dataframe tbody tr th {\n        vertical-align: top;\n    }\n\n    .dataframe thead th {\n        text-align: right;\n    }\n</style>\n<table border=\"1\" class=\"dataframe\">\n  <thead>\n    <tr style=\"text-align: right;\">\n      <th></th>\n      <th>Survived</th>\n      <th>Pclass</th>\n      <th>Sex</th>\n      <th>Age</th>\n      <th>SibSp</th>\n      <th>Parch</th>\n      <th>Fare</th>\n      <th>Embarked</th>\n      <th>PClass_encoded</th>\n      <th>Sex_encoded</th>\n      <th>Embarked_encoded</th>\n      <th>PClass_0</th>\n      <th>PClass_1</th>\n      <th>PClass_2</th>\n      <th>Sex_0</th>\n      <th>Sex_1</th>\n      <th>Embarked_0</th>\n      <th>Embarked_1</th>\n      <th>Embarked_2</th>\n    </tr>\n  </thead>\n  <tbody>\n    <tr>\n      <th>0</th>\n      <td>0</td>\n      <td>3</td>\n      <td>male</td>\n      <td>22.0</td>\n      <td>1</td>\n      <td>0</td>\n      <td>7.2500</td>\n      <td>S</td>\n      <td>2</td>\n      <td>1</td>\n      <td>2</td>\n      <td>0.0</td>\n      <td>0.0</td>\n      <td>1.0</td>\n      <td>0.0</td>\n      <td>1.0</td>\n      <td>0.0</td>\n      <td>0.0</td>\n      <td>1.0</td>\n    </tr>\n    <tr>\n      <th>1</th>\n      <td>1</td>\n      <td>1</td>\n      <td>female</td>\n      <td>38.0</td>\n      <td>1</td>\n      <td>0</td>\n      <td>71.2833</td>\n      <td>C</td>\n      <td>0</td>\n      <td>0</td>\n      <td>0</td>\n      <td>1.0</td>\n      <td>0.0</td>\n      <td>0.0</td>\n      <td>1.0</td>\n      <td>0.0</td>\n      <td>1.0</td>\n      <td>0.0</td>\n      <td>0.0</td>\n    </tr>\n    <tr>\n      <th>2</th>\n      <td>1</td>\n      <td>3</td>\n      <td>female</td>\n      <td>26.0</td>\n      <td>0</td>\n      <td>0</td>\n      <td>7.9250</td>\n      <td>S</td>\n      <td>2</td>\n      <td>0</td>\n      <td>2</td>\n      <td>0.0</td>\n      <td>0.0</td>\n      <td>1.0</td>\n      <td>1.0</td>\n      <td>0.0</td>\n      <td>0.0</td>\n      <td>0.0</td>\n      <td>1.0</td>\n    </tr>\n    <tr>\n      <th>3</th>\n      <td>1</td>\n      <td>1</td>\n      <td>female</td>\n      <td>35.0</td>\n      <td>1</td>\n      <td>0</td>\n      <td>53.1000</td>\n      <td>S</td>\n      <td>0</td>\n      <td>0</td>\n      <td>2</td>\n      <td>1.0</td>\n      <td>0.0</td>\n      <td>0.0</td>\n      <td>1.0</td>\n      <td>0.0</td>\n      <td>0.0</td>\n      <td>0.0</td>\n      <td>1.0</td>\n    </tr>\n    <tr>\n      <th>4</th>\n      <td>0</td>\n      <td>3</td>\n      <td>male</td>\n      <td>35.0</td>\n      <td>0</td>\n      <td>0</td>\n      <td>8.0500</td>\n      <td>S</td>\n      <td>2</td>\n      <td>1</td>\n      <td>2</td>\n      <td>0.0</td>\n      <td>0.0</td>\n      <td>1.0</td>\n      <td>0.0</td>\n      <td>1.0</td>\n      <td>0.0</td>\n      <td>0.0</td>\n      <td>1.0</td>\n    </tr>\n  </tbody>\n</table>\n</div>"
          },
          "metadata": {}
        }
      ]
    },
    {
      "metadata": {
        "trusted": true,
        "_uuid": "fd49be2a0ad67a138e8a563d27c0251a63e8e891"
      },
      "cell_type": "code",
      "source": "#Drop unneccesary columns\n\ntrain_data.drop([\"Pclass\",\"Sex\", \"Embarked\", \"PClass_encoded\", \"Sex_encoded\", \"Embarked_encoded\"], axis =1, inplace=True)",
      "execution_count": 22,
      "outputs": []
    },
    {
      "metadata": {
        "trusted": true,
        "_uuid": "e9a23c64fe812198f1b19600f71ddec0337a7ef9"
      },
      "cell_type": "code",
      "source": "train_data.head()",
      "execution_count": 23,
      "outputs": [
        {
          "output_type": "execute_result",
          "execution_count": 23,
          "data": {
            "text/plain": "   Survived   Age  SibSp     ...      Embarked_0  Embarked_1  Embarked_2\n0         0  22.0      1     ...             0.0         0.0         1.0\n1         1  38.0      1     ...             1.0         0.0         0.0\n2         1  26.0      0     ...             0.0         0.0         1.0\n3         1  35.0      1     ...             0.0         0.0         1.0\n4         0  35.0      0     ...             0.0         0.0         1.0\n\n[5 rows x 13 columns]",
            "text/html": "<div>\n<style scoped>\n    .dataframe tbody tr th:only-of-type {\n        vertical-align: middle;\n    }\n\n    .dataframe tbody tr th {\n        vertical-align: top;\n    }\n\n    .dataframe thead th {\n        text-align: right;\n    }\n</style>\n<table border=\"1\" class=\"dataframe\">\n  <thead>\n    <tr style=\"text-align: right;\">\n      <th></th>\n      <th>Survived</th>\n      <th>Age</th>\n      <th>SibSp</th>\n      <th>Parch</th>\n      <th>Fare</th>\n      <th>PClass_0</th>\n      <th>PClass_1</th>\n      <th>PClass_2</th>\n      <th>Sex_0</th>\n      <th>Sex_1</th>\n      <th>Embarked_0</th>\n      <th>Embarked_1</th>\n      <th>Embarked_2</th>\n    </tr>\n  </thead>\n  <tbody>\n    <tr>\n      <th>0</th>\n      <td>0</td>\n      <td>22.0</td>\n      <td>1</td>\n      <td>0</td>\n      <td>7.2500</td>\n      <td>0.0</td>\n      <td>0.0</td>\n      <td>1.0</td>\n      <td>0.0</td>\n      <td>1.0</td>\n      <td>0.0</td>\n      <td>0.0</td>\n      <td>1.0</td>\n    </tr>\n    <tr>\n      <th>1</th>\n      <td>1</td>\n      <td>38.0</td>\n      <td>1</td>\n      <td>0</td>\n      <td>71.2833</td>\n      <td>1.0</td>\n      <td>0.0</td>\n      <td>0.0</td>\n      <td>1.0</td>\n      <td>0.0</td>\n      <td>1.0</td>\n      <td>0.0</td>\n      <td>0.0</td>\n    </tr>\n    <tr>\n      <th>2</th>\n      <td>1</td>\n      <td>26.0</td>\n      <td>0</td>\n      <td>0</td>\n      <td>7.9250</td>\n      <td>0.0</td>\n      <td>0.0</td>\n      <td>1.0</td>\n      <td>1.0</td>\n      <td>0.0</td>\n      <td>0.0</td>\n      <td>0.0</td>\n      <td>1.0</td>\n    </tr>\n    <tr>\n      <th>3</th>\n      <td>1</td>\n      <td>35.0</td>\n      <td>1</td>\n      <td>0</td>\n      <td>53.1000</td>\n      <td>1.0</td>\n      <td>0.0</td>\n      <td>0.0</td>\n      <td>1.0</td>\n      <td>0.0</td>\n      <td>0.0</td>\n      <td>0.0</td>\n      <td>1.0</td>\n    </tr>\n    <tr>\n      <th>4</th>\n      <td>0</td>\n      <td>35.0</td>\n      <td>0</td>\n      <td>0</td>\n      <td>8.0500</td>\n      <td>0.0</td>\n      <td>0.0</td>\n      <td>1.0</td>\n      <td>0.0</td>\n      <td>1.0</td>\n      <td>0.0</td>\n      <td>0.0</td>\n      <td>1.0</td>\n    </tr>\n  </tbody>\n</table>\n</div>"
          },
          "metadata": {}
        }
      ]
    },
    {
      "metadata": {
        "trusted": true,
        "_uuid": "7f892786b715530a53973c0c3da72d9e39fdc802"
      },
      "cell_type": "code",
      "source": "train_data.shape",
      "execution_count": 24,
      "outputs": [
        {
          "output_type": "execute_result",
          "execution_count": 24,
          "data": {
            "text/plain": "(891, 13)"
          },
          "metadata": {}
        }
      ]
    },
    {
      "metadata": {
        "_uuid": "569736f21e9159eea32110f8747cd5f586d290bb"
      },
      "cell_type": "markdown",
      "source": "## Split into train and Test Data"
    },
    {
      "metadata": {
        "trusted": true,
        "_uuid": "cd5fa8f67aa6ac963aa26f0ddb4fd11198468855"
      },
      "cell_type": "code",
      "source": "train_data.info()",
      "execution_count": 25,
      "outputs": [
        {
          "output_type": "stream",
          "text": "<class 'pandas.core.frame.DataFrame'>\nRangeIndex: 891 entries, 0 to 890\nData columns (total 13 columns):\nSurvived      891 non-null int64\nAge           891 non-null float64\nSibSp         891 non-null int64\nParch         891 non-null int64\nFare          891 non-null float64\nPClass_0      891 non-null float64\nPClass_1      891 non-null float64\nPClass_2      891 non-null float64\nSex_0         891 non-null float64\nSex_1         891 non-null float64\nEmbarked_0    891 non-null float64\nEmbarked_1    891 non-null float64\nEmbarked_2    891 non-null float64\ndtypes: float64(10), int64(3)\nmemory usage: 90.6 KB\n",
          "name": "stdout"
        }
      ]
    },
    {
      "metadata": {
        "trusted": true,
        "_uuid": "c1d74de9f12bd4a9e4c9d25cd708ac89948ed43c"
      },
      "cell_type": "code",
      "source": "#Feature Matrix\n\nX = train_data.drop(['Survived'], axis=1)\nX.shape",
      "execution_count": 26,
      "outputs": [
        {
          "output_type": "execute_result",
          "execution_count": 26,
          "data": {
            "text/plain": "(891, 12)"
          },
          "metadata": {}
        }
      ]
    },
    {
      "metadata": {
        "trusted": true,
        "_uuid": "60107125ff0d8ec43c8606085e678ae03a8b8590"
      },
      "cell_type": "code",
      "source": "#Target Vector\n\ny = train_data['Survived']\ny.shape",
      "execution_count": 27,
      "outputs": [
        {
          "output_type": "execute_result",
          "execution_count": 27,
          "data": {
            "text/plain": "(891,)"
          },
          "metadata": {}
        }
      ]
    },
    {
      "metadata": {
        "trusted": true,
        "_uuid": "d1187220a54c1ea8917bb0a89e5c0caa4ddf108c"
      },
      "cell_type": "code",
      "source": "#Split into train test data\n\nfrom sklearn.model_selection import train_test_split\n\nX_train, X_test, y_train, y_test = train_test_split(X,y, test_size=0.2, random_state =42)",
      "execution_count": 28,
      "outputs": []
    },
    {
      "metadata": {
        "trusted": true,
        "_uuid": "6515f647be7a94d5adb54df6dd9ce1695f1bb442"
      },
      "cell_type": "code",
      "source": "print(X_train.shape,X_test.shape,y_train.shape,y_test.shape)",
      "execution_count": 29,
      "outputs": [
        {
          "output_type": "stream",
          "text": "(712, 12) (179, 12) (712,) (179,)\n",
          "name": "stdout"
        }
      ]
    },
    {
      "metadata": {
        "trusted": true,
        "_uuid": "6eb698a7ff385570037d05be1467539aaea8f6a9"
      },
      "cell_type": "code",
      "source": "#SGDClassifier\n\nfrom sklearn.linear_model import SGDClassifier\n\nsgd_clf = SGDClassifier(random_state =42)\nsgd_clf.fit(X_train, y_train)",
      "execution_count": 30,
      "outputs": [
        {
          "output_type": "execute_result",
          "execution_count": 30,
          "data": {
            "text/plain": "SGDClassifier(alpha=0.0001, average=False, class_weight=None,\n       early_stopping=False, epsilon=0.1, eta0=0.0, fit_intercept=True,\n       l1_ratio=0.15, learning_rate='optimal', loss='hinge', max_iter=None,\n       n_iter=None, n_iter_no_change=5, n_jobs=None, penalty='l2',\n       power_t=0.5, random_state=42, shuffle=True, tol=None,\n       validation_fraction=0.1, verbose=0, warm_start=False)"
          },
          "metadata": {}
        }
      ]
    },
    {
      "metadata": {
        "trusted": true,
        "_uuid": "945ff461f70eb73e88362f463e2780259648c43a"
      },
      "cell_type": "code",
      "source": "#SupportVectorMachine\n\nfrom sklearn.svm import SVC\nsvm_clf = SVC()\nsvm_clf.fit(X_train, y_train)",
      "execution_count": 31,
      "outputs": [
        {
          "output_type": "execute_result",
          "execution_count": 31,
          "data": {
            "text/plain": "SVC(C=1.0, cache_size=200, class_weight=None, coef0=0.0,\n  decision_function_shape='ovr', degree=3, gamma='auto_deprecated',\n  kernel='rbf', max_iter=-1, probability=False, random_state=None,\n  shrinking=True, tol=0.001, verbose=False)"
          },
          "metadata": {}
        }
      ]
    },
    {
      "metadata": {
        "trusted": true,
        "_uuid": "8bef34a91d5af08c30cfd67509fdcc44ece7a4e4"
      },
      "cell_type": "code",
      "source": "#RandomForestClassifier\n\nfrom sklearn.ensemble import RandomForestClassifier\nfr_clf = RandomForestClassifier(random_state=42)\nfr_clf.fit(X_train, y_train)",
      "execution_count": 32,
      "outputs": [
        {
          "output_type": "execute_result",
          "execution_count": 32,
          "data": {
            "text/plain": "RandomForestClassifier(bootstrap=True, class_weight=None, criterion='gini',\n            max_depth=None, max_features='auto', max_leaf_nodes=None,\n            min_impurity_decrease=0.0, min_impurity_split=None,\n            min_samples_leaf=1, min_samples_split=2,\n            min_weight_fraction_leaf=0.0, n_estimators=10, n_jobs=None,\n            oob_score=False, random_state=42, verbose=0, warm_start=False)"
          },
          "metadata": {}
        }
      ]
    },
    {
      "metadata": {
        "trusted": true,
        "_uuid": "d907109b10ae69b07f2aa2dc39e21003090babb3"
      },
      "cell_type": "code",
      "source": "#LogisticRegression\n\nfrom sklearn.linear_model import LogisticRegression\nlr_clf = LogisticRegression(random_state=42)\nlr_clf.fit(X_train, y_train)",
      "execution_count": 33,
      "outputs": [
        {
          "output_type": "execute_result",
          "execution_count": 33,
          "data": {
            "text/plain": "LogisticRegression(C=1.0, class_weight=None, dual=False, fit_intercept=True,\n          intercept_scaling=1, max_iter=100, multi_class='warn',\n          n_jobs=None, penalty='l2', random_state=42, solver='warn',\n          tol=0.0001, verbose=0, warm_start=False)"
          },
          "metadata": {}
        }
      ]
    },
    {
      "metadata": {
        "trusted": true,
        "_uuid": "f7634295428a7bad2d791a87d8e6dd2e4ce70419"
      },
      "cell_type": "code",
      "source": "#KNearestNeighbors\n\nfrom sklearn.neighbors import KNeighborsClassifier\nknn_clf = KNeighborsClassifier(n_neighbors=3)\nknn_clf.fit(X_train,y_train)",
      "execution_count": 34,
      "outputs": [
        {
          "output_type": "execute_result",
          "execution_count": 34,
          "data": {
            "text/plain": "KNeighborsClassifier(algorithm='auto', leaf_size=30, metric='minkowski',\n           metric_params=None, n_jobs=None, n_neighbors=3, p=2,\n           weights='uniform')"
          },
          "metadata": {}
        }
      ]
    },
    {
      "metadata": {
        "trusted": true,
        "_uuid": "3f644414e20a891dcb53b48bf70c1444d8c6f2ef"
      },
      "cell_type": "code",
      "source": "#DecisionTree\n\nfrom sklearn.tree import DecisionTreeClassifier\ndt_clf = DecisionTreeClassifier(random_state=42)\ndt_clf.fit(X_train, y_train)",
      "execution_count": 35,
      "outputs": [
        {
          "output_type": "execute_result",
          "execution_count": 35,
          "data": {
            "text/plain": "DecisionTreeClassifier(class_weight=None, criterion='gini', max_depth=None,\n            max_features=None, max_leaf_nodes=None,\n            min_impurity_decrease=0.0, min_impurity_split=None,\n            min_samples_leaf=1, min_samples_split=2,\n            min_weight_fraction_leaf=0.0, presort=False, random_state=42,\n            splitter='best')"
          },
          "metadata": {}
        }
      ]
    },
    {
      "metadata": {
        "trusted": true,
        "_uuid": "34116848fb501d4fccf20504a1a298a0d24d0398"
      },
      "cell_type": "code",
      "source": "#Measuring accuracy Using Cross Validation\n\nfrom sklearn.model_selection import cross_val_score\n\n#SGDClassifier\nsgd_clf_score = cross_val_score(sgd_clf, X_train, y_train, cv=10, scoring=\"accuracy\")\nsgd_mean = sgd_clf_score.mean()\nsgd_mean",
      "execution_count": 36,
      "outputs": [
        {
          "output_type": "execute_result",
          "execution_count": 36,
          "data": {
            "text/plain": "0.5575067069081154"
          },
          "metadata": {}
        }
      ]
    },
    {
      "metadata": {
        "trusted": true,
        "_uuid": "2427304480c4c8325d547933f66f611d13f16624"
      },
      "cell_type": "code",
      "source": "#SVMClassifier\nsvm_clf_score = cross_val_score(svm_clf, X_train, y_train, cv=10)\nsvm_mean = svm_clf_score.mean()\nsvm_mean",
      "execution_count": 37,
      "outputs": [
        {
          "output_type": "execute_result",
          "execution_count": 37,
          "data": {
            "text/plain": "0.7161535881958419"
          },
          "metadata": {}
        }
      ]
    },
    {
      "metadata": {
        "trusted": true,
        "_uuid": "38fdb7cd62fc51a1df56d28275aea0b4c20cf7ee"
      },
      "cell_type": "code",
      "source": "#RandomForestClassifier\nrf_clf_score = cross_val_score(fr_clf, X_train, y_train, cv=10)\nrf_mean = rf_clf_score.mean()\nrf_mean",
      "execution_count": 38,
      "outputs": [
        {
          "output_type": "execute_result",
          "execution_count": 38,
          "data": {
            "text/plain": "0.7865649452269171"
          },
          "metadata": {}
        }
      ]
    },
    {
      "metadata": {
        "trusted": true,
        "_uuid": "ab4ceabd554985972489eeb0f7936da308fc256e"
      },
      "cell_type": "code",
      "source": "#LogisticRegression\nlr_clf_score = cross_val_score(lr_clf, X_train, y_train, cv=10)\nlr_mean = lr_clf_score.mean()\nlr_mean",
      "execution_count": 39,
      "outputs": [
        {
          "output_type": "execute_result",
          "execution_count": 39,
          "data": {
            "text/plain": "0.8005739995528728"
          },
          "metadata": {}
        }
      ]
    },
    {
      "metadata": {
        "trusted": true,
        "_uuid": "e82307dde85995b4219f6e733dde8ef4012ed30b"
      },
      "cell_type": "code",
      "source": "#KNearestNeighbors\nknn_clf_score = cross_val_score(knn_clf, X_train, y_train, cv=10)\nknn_mean = knn_clf_score.mean()\nknn_mean",
      "execution_count": 40,
      "outputs": [
        {
          "output_type": "execute_result",
          "execution_count": 40,
          "data": {
            "text/plain": "0.7315699754080036"
          },
          "metadata": {}
        }
      ]
    },
    {
      "metadata": {
        "trusted": true,
        "_uuid": "80fc1f74f9ef3beb4288409a46f4e0402c457b82"
      },
      "cell_type": "code",
      "source": "#DecisionTreeClassifier\ndt_clf_score = cross_val_score(dt_clf, X_train, y_train, cv=10)\ndt_mean = dt_clf_score.mean()\ndt_mean",
      "execution_count": 41,
      "outputs": [
        {
          "output_type": "execute_result",
          "execution_count": 41,
          "data": {
            "text/plain": "0.7514671361502347"
          },
          "metadata": {}
        }
      ]
    },
    {
      "metadata": {
        "trusted": true,
        "_uuid": "a1cfac43972e983d68ed8388a0fc5f7db79527a4"
      },
      "cell_type": "code",
      "source": "#Model Evaluations\n\nmodels = pd.DataFrame({'Model': ['SGDClassifier', 'SupportVectorMachine', 'RandomForestClassifier',\n                                'LogisticRegression', 'KNearestNeighbors', 'DecisionTreeClassifier'], \n                       'Score':[sgd_mean, svm_mean, rf_mean, lr_mean, knn_mean, dt_mean\n                    ]})\nmodels.sort_values(by = 'Score', ascending = False)",
      "execution_count": 42,
      "outputs": [
        {
          "output_type": "execute_result",
          "execution_count": 42,
          "data": {
            "text/plain": "                    Model     Score\n3      LogisticRegression  0.800574\n2  RandomForestClassifier  0.786565\n5  DecisionTreeClassifier  0.751467\n4       KNearestNeighbors  0.731570\n1    SupportVectorMachine  0.716154\n0           SGDClassifier  0.557507",
            "text/html": "<div>\n<style scoped>\n    .dataframe tbody tr th:only-of-type {\n        vertical-align: middle;\n    }\n\n    .dataframe tbody tr th {\n        vertical-align: top;\n    }\n\n    .dataframe thead th {\n        text-align: right;\n    }\n</style>\n<table border=\"1\" class=\"dataframe\">\n  <thead>\n    <tr style=\"text-align: right;\">\n      <th></th>\n      <th>Model</th>\n      <th>Score</th>\n    </tr>\n  </thead>\n  <tbody>\n    <tr>\n      <th>3</th>\n      <td>LogisticRegression</td>\n      <td>0.800574</td>\n    </tr>\n    <tr>\n      <th>2</th>\n      <td>RandomForestClassifier</td>\n      <td>0.786565</td>\n    </tr>\n    <tr>\n      <th>5</th>\n      <td>DecisionTreeClassifier</td>\n      <td>0.751467</td>\n    </tr>\n    <tr>\n      <th>4</th>\n      <td>KNearestNeighbors</td>\n      <td>0.731570</td>\n    </tr>\n    <tr>\n      <th>1</th>\n      <td>SupportVectorMachine</td>\n      <td>0.716154</td>\n    </tr>\n    <tr>\n      <th>0</th>\n      <td>SGDClassifier</td>\n      <td>0.557507</td>\n    </tr>\n  </tbody>\n</table>\n</div>"
          },
          "metadata": {}
        }
      ]
    },
    {
      "metadata": {
        "_uuid": "0d983e2875e7e661dded737801eb5b70abd303c3"
      },
      "cell_type": "markdown",
      "source": "# Predictions on test data"
    },
    {
      "metadata": {
        "trusted": true,
        "_uuid": "7d3d300ba88fbbb5374dc751ac49bde2b55626f8"
      },
      "cell_type": "code",
      "source": "test_data.head()",
      "execution_count": 43,
      "outputs": [
        {
          "output_type": "execute_result",
          "execution_count": 43,
          "data": {
            "text/plain": "   PassengerId  Pclass   ...    Cabin Embarked\n0          892       3   ...      NaN        Q\n1          893       3   ...      NaN        S\n2          894       2   ...      NaN        Q\n3          895       3   ...      NaN        S\n4          896       3   ...      NaN        S\n\n[5 rows x 11 columns]",
            "text/html": "<div>\n<style scoped>\n    .dataframe tbody tr th:only-of-type {\n        vertical-align: middle;\n    }\n\n    .dataframe tbody tr th {\n        vertical-align: top;\n    }\n\n    .dataframe thead th {\n        text-align: right;\n    }\n</style>\n<table border=\"1\" class=\"dataframe\">\n  <thead>\n    <tr style=\"text-align: right;\">\n      <th></th>\n      <th>PassengerId</th>\n      <th>Pclass</th>\n      <th>Name</th>\n      <th>Sex</th>\n      <th>Age</th>\n      <th>SibSp</th>\n      <th>Parch</th>\n      <th>Ticket</th>\n      <th>Fare</th>\n      <th>Cabin</th>\n      <th>Embarked</th>\n    </tr>\n  </thead>\n  <tbody>\n    <tr>\n      <th>0</th>\n      <td>892</td>\n      <td>3</td>\n      <td>Kelly, Mr. James</td>\n      <td>male</td>\n      <td>34.5</td>\n      <td>0</td>\n      <td>0</td>\n      <td>330911</td>\n      <td>7.8292</td>\n      <td>NaN</td>\n      <td>Q</td>\n    </tr>\n    <tr>\n      <th>1</th>\n      <td>893</td>\n      <td>3</td>\n      <td>Wilkes, Mrs. James (Ellen Needs)</td>\n      <td>female</td>\n      <td>47.0</td>\n      <td>1</td>\n      <td>0</td>\n      <td>363272</td>\n      <td>7.0000</td>\n      <td>NaN</td>\n      <td>S</td>\n    </tr>\n    <tr>\n      <th>2</th>\n      <td>894</td>\n      <td>2</td>\n      <td>Myles, Mr. Thomas Francis</td>\n      <td>male</td>\n      <td>62.0</td>\n      <td>0</td>\n      <td>0</td>\n      <td>240276</td>\n      <td>9.6875</td>\n      <td>NaN</td>\n      <td>Q</td>\n    </tr>\n    <tr>\n      <th>3</th>\n      <td>895</td>\n      <td>3</td>\n      <td>Wirz, Mr. Albert</td>\n      <td>male</td>\n      <td>27.0</td>\n      <td>0</td>\n      <td>0</td>\n      <td>315154</td>\n      <td>8.6625</td>\n      <td>NaN</td>\n      <td>S</td>\n    </tr>\n    <tr>\n      <th>4</th>\n      <td>896</td>\n      <td>3</td>\n      <td>Hirvonen, Mrs. Alexander (Helga E Lindqvist)</td>\n      <td>female</td>\n      <td>22.0</td>\n      <td>1</td>\n      <td>1</td>\n      <td>3101298</td>\n      <td>12.2875</td>\n      <td>NaN</td>\n      <td>S</td>\n    </tr>\n  </tbody>\n</table>\n</div>"
          },
          "metadata": {}
        }
      ]
    },
    {
      "metadata": {
        "trusted": true,
        "_uuid": "103c0c151a698cc8b7210c04fe58e635dbe8348f"
      },
      "cell_type": "code",
      "source": "test_data.info()",
      "execution_count": 44,
      "outputs": [
        {
          "output_type": "stream",
          "text": "<class 'pandas.core.frame.DataFrame'>\nRangeIndex: 418 entries, 0 to 417\nData columns (total 11 columns):\nPassengerId    418 non-null int64\nPclass         418 non-null int64\nName           418 non-null object\nSex            418 non-null object\nAge            332 non-null float64\nSibSp          418 non-null int64\nParch          418 non-null int64\nTicket         418 non-null object\nFare           417 non-null float64\nCabin          91 non-null object\nEmbarked       418 non-null object\ndtypes: float64(2), int64(4), object(5)\nmemory usage: 36.0+ KB\n",
          "name": "stdout"
        }
      ]
    },
    {
      "metadata": {
        "trusted": true,
        "_uuid": "33bf71b4fa8f80de0f08a8d87e9521fc4b412efd"
      },
      "cell_type": "code",
      "source": "#We need to do the same transformation on test data file, so we can predict.\n\n#Replace NaN in Embarked by category S\ntest_data[\"Embarked\"].fillna('S', inplace=True)\n\n\n#Get Median Age and replace NaN with Median Age\nage_median = test_data[\"Age\"].median()\ntest_data[\"Age\"].fillna(age_median, inplace=True)\n\n#Drop columns Cabin, Name, Ticket\ntest_data.drop([\"Name\", \"Ticket\", \"Cabin\"], axis =1, inplace=True)",
      "execution_count": 45,
      "outputs": []
    },
    {
      "metadata": {
        "trusted": true,
        "_uuid": "20bf82418ad5ac53dc94e958215f697f1d2a43fa"
      },
      "cell_type": "code",
      "source": "#OneHotEncoding\n\nle_pClass = LabelEncoder()\nle_sex = LabelEncoder()\nle_embarked = LabelEncoder()\ntest_data['PClass_encoded'] = le_pClass.fit_transform(test_data.Pclass)\ntest_data['Sex_encoded'] = le_sex.fit_transform(test_data.Sex)\ntest_data['Embarked_encoded'] = le_embarked.fit_transform(test_data.Embarked)\n\ntest_data.head()",
      "execution_count": 46,
      "outputs": [
        {
          "output_type": "execute_result",
          "execution_count": 46,
          "data": {
            "text/plain": "   PassengerId  Pclass        ...        Sex_encoded  Embarked_encoded\n0          892       3        ...                  1                 1\n1          893       3        ...                  0                 2\n2          894       2        ...                  1                 1\n3          895       3        ...                  1                 2\n4          896       3        ...                  0                 2\n\n[5 rows x 11 columns]",
            "text/html": "<div>\n<style scoped>\n    .dataframe tbody tr th:only-of-type {\n        vertical-align: middle;\n    }\n\n    .dataframe tbody tr th {\n        vertical-align: top;\n    }\n\n    .dataframe thead th {\n        text-align: right;\n    }\n</style>\n<table border=\"1\" class=\"dataframe\">\n  <thead>\n    <tr style=\"text-align: right;\">\n      <th></th>\n      <th>PassengerId</th>\n      <th>Pclass</th>\n      <th>Sex</th>\n      <th>Age</th>\n      <th>SibSp</th>\n      <th>Parch</th>\n      <th>Fare</th>\n      <th>Embarked</th>\n      <th>PClass_encoded</th>\n      <th>Sex_encoded</th>\n      <th>Embarked_encoded</th>\n    </tr>\n  </thead>\n  <tbody>\n    <tr>\n      <th>0</th>\n      <td>892</td>\n      <td>3</td>\n      <td>male</td>\n      <td>34.5</td>\n      <td>0</td>\n      <td>0</td>\n      <td>7.8292</td>\n      <td>Q</td>\n      <td>2</td>\n      <td>1</td>\n      <td>1</td>\n    </tr>\n    <tr>\n      <th>1</th>\n      <td>893</td>\n      <td>3</td>\n      <td>female</td>\n      <td>47.0</td>\n      <td>1</td>\n      <td>0</td>\n      <td>7.0000</td>\n      <td>S</td>\n      <td>2</td>\n      <td>0</td>\n      <td>2</td>\n    </tr>\n    <tr>\n      <th>2</th>\n      <td>894</td>\n      <td>2</td>\n      <td>male</td>\n      <td>62.0</td>\n      <td>0</td>\n      <td>0</td>\n      <td>9.6875</td>\n      <td>Q</td>\n      <td>1</td>\n      <td>1</td>\n      <td>1</td>\n    </tr>\n    <tr>\n      <th>3</th>\n      <td>895</td>\n      <td>3</td>\n      <td>male</td>\n      <td>27.0</td>\n      <td>0</td>\n      <td>0</td>\n      <td>8.6625</td>\n      <td>S</td>\n      <td>2</td>\n      <td>1</td>\n      <td>2</td>\n    </tr>\n    <tr>\n      <th>4</th>\n      <td>896</td>\n      <td>3</td>\n      <td>female</td>\n      <td>22.0</td>\n      <td>1</td>\n      <td>1</td>\n      <td>12.2875</td>\n      <td>S</td>\n      <td>2</td>\n      <td>0</td>\n      <td>2</td>\n    </tr>\n  </tbody>\n</table>\n</div>"
          },
          "metadata": {}
        }
      ]
    },
    {
      "metadata": {
        "trusted": true,
        "_uuid": "db5964ac7d975c399c1abec7061002fdd26c45a5"
      },
      "cell_type": "code",
      "source": "pClass_ohe = OneHotEncoder()\nsex_ohe = OneHotEncoder()\nembarked_ohe = OneHotEncoder()\n\nXp =pClass_ohe.fit_transform(test_data.PClass_encoded.values.reshape(-1,1)).toarray()\nXs =sex_ohe.fit_transform(test_data.Sex_encoded.values.reshape(-1,1)).toarray()\nXe =embarked_ohe.fit_transform(test_data.Embarked_encoded.values.reshape(-1,1)).toarray()\n\ntest_data.head()",
      "execution_count": 47,
      "outputs": [
        {
          "output_type": "execute_result",
          "execution_count": 47,
          "data": {
            "text/plain": "   PassengerId  Pclass        ...        Sex_encoded  Embarked_encoded\n0          892       3        ...                  1                 1\n1          893       3        ...                  0                 2\n2          894       2        ...                  1                 1\n3          895       3        ...                  1                 2\n4          896       3        ...                  0                 2\n\n[5 rows x 11 columns]",
            "text/html": "<div>\n<style scoped>\n    .dataframe tbody tr th:only-of-type {\n        vertical-align: middle;\n    }\n\n    .dataframe tbody tr th {\n        vertical-align: top;\n    }\n\n    .dataframe thead th {\n        text-align: right;\n    }\n</style>\n<table border=\"1\" class=\"dataframe\">\n  <thead>\n    <tr style=\"text-align: right;\">\n      <th></th>\n      <th>PassengerId</th>\n      <th>Pclass</th>\n      <th>Sex</th>\n      <th>Age</th>\n      <th>SibSp</th>\n      <th>Parch</th>\n      <th>Fare</th>\n      <th>Embarked</th>\n      <th>PClass_encoded</th>\n      <th>Sex_encoded</th>\n      <th>Embarked_encoded</th>\n    </tr>\n  </thead>\n  <tbody>\n    <tr>\n      <th>0</th>\n      <td>892</td>\n      <td>3</td>\n      <td>male</td>\n      <td>34.5</td>\n      <td>0</td>\n      <td>0</td>\n      <td>7.8292</td>\n      <td>Q</td>\n      <td>2</td>\n      <td>1</td>\n      <td>1</td>\n    </tr>\n    <tr>\n      <th>1</th>\n      <td>893</td>\n      <td>3</td>\n      <td>female</td>\n      <td>47.0</td>\n      <td>1</td>\n      <td>0</td>\n      <td>7.0000</td>\n      <td>S</td>\n      <td>2</td>\n      <td>0</td>\n      <td>2</td>\n    </tr>\n    <tr>\n      <th>2</th>\n      <td>894</td>\n      <td>2</td>\n      <td>male</td>\n      <td>62.0</td>\n      <td>0</td>\n      <td>0</td>\n      <td>9.6875</td>\n      <td>Q</td>\n      <td>1</td>\n      <td>1</td>\n      <td>1</td>\n    </tr>\n    <tr>\n      <th>3</th>\n      <td>895</td>\n      <td>3</td>\n      <td>male</td>\n      <td>27.0</td>\n      <td>0</td>\n      <td>0</td>\n      <td>8.6625</td>\n      <td>S</td>\n      <td>2</td>\n      <td>1</td>\n      <td>2</td>\n    </tr>\n    <tr>\n      <th>4</th>\n      <td>896</td>\n      <td>3</td>\n      <td>female</td>\n      <td>22.0</td>\n      <td>1</td>\n      <td>1</td>\n      <td>12.2875</td>\n      <td>S</td>\n      <td>2</td>\n      <td>0</td>\n      <td>2</td>\n    </tr>\n  </tbody>\n</table>\n</div>"
          },
          "metadata": {}
        }
      ]
    },
    {
      "metadata": {
        "trusted": true,
        "_uuid": "cfb7d1a44038765a012f80c52ab631a7c47b946e"
      },
      "cell_type": "code",
      "source": "#Add back to original dataframe\n\ntest_dataOneHot = pd.DataFrame(Xp, columns = [\"PClass_\"+str(int(i)) for i in range(Xp.shape[1])])\ntest_data = pd.concat([test_data, test_dataOneHot], axis=1)\n\ntest_dataOneHot = pd.DataFrame(Xs, columns = [\"Sex_\"+str(int(i)) for i in range(Xs.shape[1])])\ntest_data = pd.concat([test_data, test_dataOneHot], axis=1)\n\ntest_dataOneHot = pd.DataFrame(Xe, columns = [\"Embarked_\"+str(int(i)) for i in range(Xe.shape[1])])\ntest_data = pd.concat([test_data, test_dataOneHot], axis=1)\n\ntest_data.head()",
      "execution_count": 48,
      "outputs": [
        {
          "output_type": "execute_result",
          "execution_count": 48,
          "data": {
            "text/plain": "   PassengerId  Pclass     Sex     ...      Embarked_0  Embarked_1  Embarked_2\n0          892       3    male     ...             0.0         1.0         0.0\n1          893       3  female     ...             0.0         0.0         1.0\n2          894       2    male     ...             0.0         1.0         0.0\n3          895       3    male     ...             0.0         0.0         1.0\n4          896       3  female     ...             0.0         0.0         1.0\n\n[5 rows x 19 columns]",
            "text/html": "<div>\n<style scoped>\n    .dataframe tbody tr th:only-of-type {\n        vertical-align: middle;\n    }\n\n    .dataframe tbody tr th {\n        vertical-align: top;\n    }\n\n    .dataframe thead th {\n        text-align: right;\n    }\n</style>\n<table border=\"1\" class=\"dataframe\">\n  <thead>\n    <tr style=\"text-align: right;\">\n      <th></th>\n      <th>PassengerId</th>\n      <th>Pclass</th>\n      <th>Sex</th>\n      <th>Age</th>\n      <th>SibSp</th>\n      <th>Parch</th>\n      <th>Fare</th>\n      <th>Embarked</th>\n      <th>PClass_encoded</th>\n      <th>Sex_encoded</th>\n      <th>Embarked_encoded</th>\n      <th>PClass_0</th>\n      <th>PClass_1</th>\n      <th>PClass_2</th>\n      <th>Sex_0</th>\n      <th>Sex_1</th>\n      <th>Embarked_0</th>\n      <th>Embarked_1</th>\n      <th>Embarked_2</th>\n    </tr>\n  </thead>\n  <tbody>\n    <tr>\n      <th>0</th>\n      <td>892</td>\n      <td>3</td>\n      <td>male</td>\n      <td>34.5</td>\n      <td>0</td>\n      <td>0</td>\n      <td>7.8292</td>\n      <td>Q</td>\n      <td>2</td>\n      <td>1</td>\n      <td>1</td>\n      <td>0.0</td>\n      <td>0.0</td>\n      <td>1.0</td>\n      <td>0.0</td>\n      <td>1.0</td>\n      <td>0.0</td>\n      <td>1.0</td>\n      <td>0.0</td>\n    </tr>\n    <tr>\n      <th>1</th>\n      <td>893</td>\n      <td>3</td>\n      <td>female</td>\n      <td>47.0</td>\n      <td>1</td>\n      <td>0</td>\n      <td>7.0000</td>\n      <td>S</td>\n      <td>2</td>\n      <td>0</td>\n      <td>2</td>\n      <td>0.0</td>\n      <td>0.0</td>\n      <td>1.0</td>\n      <td>1.0</td>\n      <td>0.0</td>\n      <td>0.0</td>\n      <td>0.0</td>\n      <td>1.0</td>\n    </tr>\n    <tr>\n      <th>2</th>\n      <td>894</td>\n      <td>2</td>\n      <td>male</td>\n      <td>62.0</td>\n      <td>0</td>\n      <td>0</td>\n      <td>9.6875</td>\n      <td>Q</td>\n      <td>1</td>\n      <td>1</td>\n      <td>1</td>\n      <td>0.0</td>\n      <td>1.0</td>\n      <td>0.0</td>\n      <td>0.0</td>\n      <td>1.0</td>\n      <td>0.0</td>\n      <td>1.0</td>\n      <td>0.0</td>\n    </tr>\n    <tr>\n      <th>3</th>\n      <td>895</td>\n      <td>3</td>\n      <td>male</td>\n      <td>27.0</td>\n      <td>0</td>\n      <td>0</td>\n      <td>8.6625</td>\n      <td>S</td>\n      <td>2</td>\n      <td>1</td>\n      <td>2</td>\n      <td>0.0</td>\n      <td>0.0</td>\n      <td>1.0</td>\n      <td>0.0</td>\n      <td>1.0</td>\n      <td>0.0</td>\n      <td>0.0</td>\n      <td>1.0</td>\n    </tr>\n    <tr>\n      <th>4</th>\n      <td>896</td>\n      <td>3</td>\n      <td>female</td>\n      <td>22.0</td>\n      <td>1</td>\n      <td>1</td>\n      <td>12.2875</td>\n      <td>S</td>\n      <td>2</td>\n      <td>0</td>\n      <td>2</td>\n      <td>0.0</td>\n      <td>0.0</td>\n      <td>1.0</td>\n      <td>1.0</td>\n      <td>0.0</td>\n      <td>0.0</td>\n      <td>0.0</td>\n      <td>1.0</td>\n    </tr>\n  </tbody>\n</table>\n</div>"
          },
          "metadata": {}
        }
      ]
    },
    {
      "metadata": {
        "trusted": true,
        "_uuid": "08ad37753848952f59579b3125b425c70295867c"
      },
      "cell_type": "code",
      "source": "#Drop unneccesary columns\n\ntest_data.drop([\"Pclass\",\"Sex\", \"Embarked\", \"PClass_encoded\", \"Sex_encoded\", \"Embarked_encoded\"], axis =1, inplace=True)\ntest_data.head()",
      "execution_count": 49,
      "outputs": [
        {
          "output_type": "execute_result",
          "execution_count": 49,
          "data": {
            "text/plain": "   PassengerId   Age  SibSp     ...      Embarked_0  Embarked_1  Embarked_2\n0          892  34.5      0     ...             0.0         1.0         0.0\n1          893  47.0      1     ...             0.0         0.0         1.0\n2          894  62.0      0     ...             0.0         1.0         0.0\n3          895  27.0      0     ...             0.0         0.0         1.0\n4          896  22.0      1     ...             0.0         0.0         1.0\n\n[5 rows x 13 columns]",
            "text/html": "<div>\n<style scoped>\n    .dataframe tbody tr th:only-of-type {\n        vertical-align: middle;\n    }\n\n    .dataframe tbody tr th {\n        vertical-align: top;\n    }\n\n    .dataframe thead th {\n        text-align: right;\n    }\n</style>\n<table border=\"1\" class=\"dataframe\">\n  <thead>\n    <tr style=\"text-align: right;\">\n      <th></th>\n      <th>PassengerId</th>\n      <th>Age</th>\n      <th>SibSp</th>\n      <th>Parch</th>\n      <th>Fare</th>\n      <th>PClass_0</th>\n      <th>PClass_1</th>\n      <th>PClass_2</th>\n      <th>Sex_0</th>\n      <th>Sex_1</th>\n      <th>Embarked_0</th>\n      <th>Embarked_1</th>\n      <th>Embarked_2</th>\n    </tr>\n  </thead>\n  <tbody>\n    <tr>\n      <th>0</th>\n      <td>892</td>\n      <td>34.5</td>\n      <td>0</td>\n      <td>0</td>\n      <td>7.8292</td>\n      <td>0.0</td>\n      <td>0.0</td>\n      <td>1.0</td>\n      <td>0.0</td>\n      <td>1.0</td>\n      <td>0.0</td>\n      <td>1.0</td>\n      <td>0.0</td>\n    </tr>\n    <tr>\n      <th>1</th>\n      <td>893</td>\n      <td>47.0</td>\n      <td>1</td>\n      <td>0</td>\n      <td>7.0000</td>\n      <td>0.0</td>\n      <td>0.0</td>\n      <td>1.0</td>\n      <td>1.0</td>\n      <td>0.0</td>\n      <td>0.0</td>\n      <td>0.0</td>\n      <td>1.0</td>\n    </tr>\n    <tr>\n      <th>2</th>\n      <td>894</td>\n      <td>62.0</td>\n      <td>0</td>\n      <td>0</td>\n      <td>9.6875</td>\n      <td>0.0</td>\n      <td>1.0</td>\n      <td>0.0</td>\n      <td>0.0</td>\n      <td>1.0</td>\n      <td>0.0</td>\n      <td>1.0</td>\n      <td>0.0</td>\n    </tr>\n    <tr>\n      <th>3</th>\n      <td>895</td>\n      <td>27.0</td>\n      <td>0</td>\n      <td>0</td>\n      <td>8.6625</td>\n      <td>0.0</td>\n      <td>0.0</td>\n      <td>1.0</td>\n      <td>0.0</td>\n      <td>1.0</td>\n      <td>0.0</td>\n      <td>0.0</td>\n      <td>1.0</td>\n    </tr>\n    <tr>\n      <th>4</th>\n      <td>896</td>\n      <td>22.0</td>\n      <td>1</td>\n      <td>1</td>\n      <td>12.2875</td>\n      <td>0.0</td>\n      <td>0.0</td>\n      <td>1.0</td>\n      <td>1.0</td>\n      <td>0.0</td>\n      <td>0.0</td>\n      <td>0.0</td>\n      <td>1.0</td>\n    </tr>\n  </tbody>\n</table>\n</div>"
          },
          "metadata": {}
        }
      ]
    },
    {
      "metadata": {
        "trusted": true,
        "_uuid": "29951d102ab3af4e23a83454151ff9e44bebecec"
      },
      "cell_type": "code",
      "source": "#Predictions\ntest_data_pred = test_data.drop([\"PassengerId\"], axis =1)\ntest_data_pred.info()",
      "execution_count": 50,
      "outputs": [
        {
          "output_type": "stream",
          "text": "<class 'pandas.core.frame.DataFrame'>\nRangeIndex: 418 entries, 0 to 417\nData columns (total 12 columns):\nAge           418 non-null float64\nSibSp         418 non-null int64\nParch         418 non-null int64\nFare          417 non-null float64\nPClass_0      418 non-null float64\nPClass_1      418 non-null float64\nPClass_2      418 non-null float64\nSex_0         418 non-null float64\nSex_1         418 non-null float64\nEmbarked_0    418 non-null float64\nEmbarked_1    418 non-null float64\nEmbarked_2    418 non-null float64\ndtypes: float64(10), int64(2)\nmemory usage: 39.3 KB\n",
          "name": "stdout"
        }
      ]
    },
    {
      "metadata": {
        "trusted": true,
        "_uuid": "715fa11c2f7d6ac8f6985a4f48a194f523df2ba3"
      },
      "cell_type": "code",
      "source": "#FARE is missing one entry , so will impute that by a median value.\n\nfare_median = test_data_pred[\"Fare\"].median()\nfare_median\n\ntest_data_pred[\"Fare\"].fillna(fare_median, inplace=True)\ntest_data_pred.info()",
      "execution_count": 51,
      "outputs": [
        {
          "output_type": "stream",
          "text": "<class 'pandas.core.frame.DataFrame'>\nRangeIndex: 418 entries, 0 to 417\nData columns (total 12 columns):\nAge           418 non-null float64\nSibSp         418 non-null int64\nParch         418 non-null int64\nFare          418 non-null float64\nPClass_0      418 non-null float64\nPClass_1      418 non-null float64\nPClass_2      418 non-null float64\nSex_0         418 non-null float64\nSex_1         418 non-null float64\nEmbarked_0    418 non-null float64\nEmbarked_1    418 non-null float64\nEmbarked_2    418 non-null float64\ndtypes: float64(10), int64(2)\nmemory usage: 39.3 KB\n",
          "name": "stdout"
        }
      ]
    },
    {
      "metadata": {
        "trusted": true,
        "_uuid": "4817a7ec595820f38cd14f8ad9f2013a4ec35f10"
      },
      "cell_type": "code",
      "source": "#Predict using LogisticRegression model\n\nY_pred = lr_clf.predict(test_data_pred)",
      "execution_count": 52,
      "outputs": []
    },
    {
      "metadata": {
        "trusted": true,
        "_uuid": "abbadae0cadab690f1f69a7d6d5fd0e77a28c39e"
      },
      "cell_type": "code",
      "source": "#Make submission file version 1\n\nsubmission = pd.DataFrame({\n        \"PassengerId\": test_data[\"PassengerId\"],\n        \"Survived\": Y_pred\n    })\n\nsubmission.to_csv('Titanic_Prediction_v1.csv', index=False)",
      "execution_count": 53,
      "outputs": []
    },
    {
      "metadata": {
        "_uuid": "bed17072b4f4e309156111c2e006a417267d9a12"
      },
      "cell_type": "markdown",
      "source": "***Without spending much effort into preprocessing (only removing NaN and one hot encoding), Logistic regression gives the score of more than 80%. ***\n\n***Let's see what we can do in feature enginnering. A visual inspection of data might also help in improving accuracy.***"
    },
    {
      "metadata": {
        "trusted": true,
        "_uuid": "0792e26fc4e78d6c4313fcdaabe1b9174f8a5f72"
      },
      "cell_type": "code",
      "source": "",
      "execution_count": null,
      "outputs": []
    }
  ],
  "metadata": {
    "kernelspec": {
      "display_name": "Python 3",
      "language": "python",
      "name": "python3"
    },
    "language_info": {
      "name": "python",
      "version": "3.6.6",
      "mimetype": "text/x-python",
      "codemirror_mode": {
        "name": "ipython",
        "version": 3
      },
      "pygments_lexer": "ipython3",
      "nbconvert_exporter": "python",
      "file_extension": ".py"
    }
  },
  "nbformat": 4,
  "nbformat_minor": 1
}