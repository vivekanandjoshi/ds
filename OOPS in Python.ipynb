{
 "cells": [
  {
   "cell_type": "code",
   "execution_count": 150,
   "metadata": {},
   "outputs": [],
   "source": [
    "import jrpyoop\n",
    "import pandas as pd\n",
    "import numpy as np\n",
    "\n",
    "import matplotlib.pyplot as plt\n",
    "\n",
    "%matplotlib inline"
   ]
  },
  {
   "cell_type": "code",
   "execution_count": 48,
   "metadata": {},
   "outputs": [],
   "source": [
    "class Cohort:\n",
    "    def __init__(self, weights, heights, centre):\n",
    "        self.data = pd.DataFrame({'heights': heights, 'weights': weights})\n",
    "        self.centre = centre\n",
    "    \n",
    "    def plot(self):\n",
    "        self.data.plot.scatter(\n",
    "            x = 'weights',\n",
    "            y ='heights',\n",
    "            title = self.centre\n",
    "        )\n",
    "        \n",
    "    def __str__(self):\n",
    "        return '\\nData from centre : {} \\n \\n {}',format(\n",
    "            self.centre,\n",
    "            self.data.__str__()\n",
    "        )"
   ]
  },
  {
   "cell_type": "code",
   "execution_count": 49,
   "metadata": {},
   "outputs": [],
   "source": [
    "heights = [1,2,3,4]\n",
    "weights = [3,4,5,6]\n",
    "centre = 'NewCastle'"
   ]
  },
  {
   "cell_type": "code",
   "execution_count": 50,
   "metadata": {},
   "outputs": [],
   "source": [
    "myCohort = Cohort(weights,heights, centre)"
   ]
  },
  {
   "cell_type": "code",
   "execution_count": 51,
   "metadata": {},
   "outputs": [
    {
     "data": {
      "text/plain": [
       "<bound method Cohort.__str__ of <__main__.Cohort object at 0x0000000011675278>>"
      ]
     },
     "execution_count": 51,
     "metadata": {},
     "output_type": "execute_result"
    }
   ],
   "source": [
    "myCohort.__str__"
   ]
  },
  {
   "cell_type": "code",
   "execution_count": 52,
   "metadata": {},
   "outputs": [
    {
     "data": {
      "text/html": [
       "<div>\n",
       "<style scoped>\n",
       "    .dataframe tbody tr th:only-of-type {\n",
       "        vertical-align: middle;\n",
       "    }\n",
       "\n",
       "    .dataframe tbody tr th {\n",
       "        vertical-align: top;\n",
       "    }\n",
       "\n",
       "    .dataframe thead th {\n",
       "        text-align: right;\n",
       "    }\n",
       "</style>\n",
       "<table border=\"1\" class=\"dataframe\">\n",
       "  <thead>\n",
       "    <tr style=\"text-align: right;\">\n",
       "      <th></th>\n",
       "      <th>heights</th>\n",
       "      <th>weights</th>\n",
       "    </tr>\n",
       "  </thead>\n",
       "  <tbody>\n",
       "    <tr>\n",
       "      <th>0</th>\n",
       "      <td>1</td>\n",
       "      <td>3</td>\n",
       "    </tr>\n",
       "    <tr>\n",
       "      <th>1</th>\n",
       "      <td>2</td>\n",
       "      <td>4</td>\n",
       "    </tr>\n",
       "    <tr>\n",
       "      <th>2</th>\n",
       "      <td>3</td>\n",
       "      <td>5</td>\n",
       "    </tr>\n",
       "    <tr>\n",
       "      <th>3</th>\n",
       "      <td>4</td>\n",
       "      <td>6</td>\n",
       "    </tr>\n",
       "  </tbody>\n",
       "</table>\n",
       "</div>"
      ],
      "text/plain": [
       "   heights  weights\n",
       "0        1        3\n",
       "1        2        4\n",
       "2        3        5\n",
       "3        4        6"
      ]
     },
     "execution_count": 52,
     "metadata": {},
     "output_type": "execute_result"
    }
   ],
   "source": [
    "myCohort.data"
   ]
  },
  {
   "cell_type": "code",
   "execution_count": 53,
   "metadata": {},
   "outputs": [
    {
     "data": {
      "text/plain": [
       "<matplotlib.collections.PathCollection at 0x116a5898>"
      ]
     },
     "execution_count": 53,
     "metadata": {},
     "output_type": "execute_result"
    },
    {
     "data": {
      "image/png": "[encoded data removed]",
      "text/plain": [
       "<Figure size 432x288 with 1 Axes>"
      ]
     },
     "metadata": {
      "needs_background": "light"
     },
     "output_type": "display_data"
    }
   ],
   "source": [
    "plt.scatter(myCohort.data.heights, myCohort.data.weights)"
   ]
  },
  {
   "cell_type": "code",
   "execution_count": 54,
   "metadata": {},
   "outputs": [
    {
     "data": {
      "image/png": "[encoded data removed]",
      "text/plain": [
       "<Figure size 432x288 with 1 Axes>"
      ]
     },
     "metadata": {
      "needs_background": "light"
     },
     "output_type": "display_data"
    }
   ],
   "source": [
    "myCohort.plot()"
   ]
  },
  {
   "cell_type": "code",
   "execution_count": 59,
   "metadata": {},
   "outputs": [],
   "source": [
    "jrpyoop.vignettes.load_vignette('practical1.pdf')"
   ]
  },
  {
   "cell_type": "code",
   "execution_count": 60,
   "metadata": {},
   "outputs": [],
   "source": [
    "from sklearn.datasets import load_boston\n",
    "boston = load_boston()"
   ]
  },
  {
   "cell_type": "code",
   "execution_count": 156,
   "metadata": {},
   "outputs": [],
   "source": [
    "X, y = boston.data, boston.target"
   ]
  },
  {
   "cell_type": "code",
   "execution_count": 157,
   "metadata": {},
   "outputs": [
    {
     "data": {
      "text/plain": [
       "(506, 13)"
      ]
     },
     "execution_count": 157,
     "metadata": {},
     "output_type": "execute_result"
    }
   ],
   "source": [
    "X.shape"
   ]
  },
  {
   "cell_type": "code",
   "execution_count": 158,
   "metadata": {},
   "outputs": [],
   "source": [
    "class Model:\n",
    "    def __init__(self,X,y):\n",
    "        self.X = X\n",
    "        self.y = y\n",
    "        if len(X.shape) == 1:\n",
    "            X = X.values.reshape(-1,1)\n",
    "        X = np.c_[np.ones(X.shape[0]),X]\n",
    "        xTx = np.dot(X.T,X)\n",
    "        inverse_xTx = np.linalg.inv(xTx)\n",
    "        xTy = np.dot(X.T,y)\n",
    "        coef = np.dot(inverse_xTx,xTy)\n",
    "        self.intercept = coef[0]\n",
    "        self.gradients = coef[1:]\n",
    "        self.fitted = self.predict(self.X)\n",
    "        self.residuals = self.fitted - self.y\n",
    "        \n",
    "    def predict(self,X):\n",
    "        if len(X.shape) == 1:\n",
    "            X = X.values.reshape(-1,1)\n",
    "        return self.intercept + np.dot(X,self.gradients)\n",
    "    \n",
    "    def __str__(self):\n",
    "        return 'A linear regression model with parameters \\n \\\n",
    "        \\n Intercept: {} \\\n",
    "        \\n Gradients: {}'.format(self.intercept, self.gradients)\n",
    "    \n",
    "    def __repr__(self):\n",
    "        return self.__str__()\n",
    "    "
   ]
  },
  {
   "cell_type": "code",
   "execution_count": 159,
   "metadata": {},
   "outputs": [],
   "source": [
    "class plottableModel(Model):\n",
    "    def plot_one(self,dim = 0):\n",
    "        cols = self.X.shape[1]\n",
    "        if dim > (cols - 1):\n",
    "            raise Exception('You chose column {} (index {}) but there are \\\n",
    "            only {} columns to choose from.'.format(dim-1,dim,cols))\n",
    "\n",
    "        df = self.X.assign(y = self.y, fitted = self.fitted)\n",
    "        df.sort_values(df.columns[dim],inplace = True)\n",
    "        p = df.plot.scatter(x=dim,y = 'y')\n",
    "        df.plot.line(x = dim, y = 'fitted', ax = p, c = 'black')\n",
    "        plt.show()\n",
    "            \n",
    "    @classmethod\n",
    "    def make_plottable(cls,m):\n",
    "        return cls(m.X,m.y)"
   ]
  },
  {
   "cell_type": "code",
   "execution_count": 139,
   "metadata": {},
   "outputs": [],
   "source": [
    "myModel = Model(X,y)"
   ]
  },
  {
   "cell_type": "code",
   "execution_count": 160,
   "metadata": {},
   "outputs": [],
   "source": [
    "plot_clas = plottableModel(pd.DataFrame(X),y)"
   ]
  },
  {
   "cell_type": "code",
   "execution_count": 161,
   "metadata": {},
   "outputs": [
    {
     "data": {
      "image/png": "[encoded data removed]",
      "text/plain": [
       "<Figure size 432x288 with 1 Axes>"
      ]
     },
     "metadata": {
      "needs_background": "light"
     },
     "output_type": "display_data"
    }
   ],
   "source": [
    "plot_clas.plot_one()"
   ]
  },
  {
   "cell_type": "code",
   "execution_count": 148,
   "metadata": {},
   "outputs": [
    {
     "data": {
      "text/plain": [
       "A linear regression model with parameters \n",
       "         \n",
       " Intercept: 36.45948838510185         \n",
       " Gradients: [-1.08011358e-01  4.64204584e-02  2.05586264e-02  2.68673382e+00\n",
       " -1.77666112e+01  3.80986521e+00  6.92224640e-04 -1.47556685e+00\n",
       "  3.06049479e-01 -1.23345939e-02 -9.52747232e-01  9.31168327e-03\n",
       " -5.24758378e-01]"
      ]
     },
     "execution_count": 148,
     "metadata": {},
     "output_type": "execute_result"
    }
   ],
   "source": [
    "plot_clas.make_plottable(myModel)"
   ]
  },
  {
   "cell_type": "code",
   "execution_count": null,
   "metadata": {},
   "outputs": [],
   "source": []
  }
 ],
 "metadata": {
  "kernelspec": {
   "display_name": "Python 3",
   "language": "python",
   "name": "python3"
  },
  "language_info": {
   "codemirror_mode": {
    "name": "ipython",
    "version": 3
   },
   "file_extension": ".py",
   "mimetype": "text/x-python",
   "name": "python",
   "nbconvert_exporter": "python",
   "pygments_lexer": "ipython3",
   "version": "3.6.4"
  }
 },
 "nbformat": 4,
 "nbformat_minor": 2
}
