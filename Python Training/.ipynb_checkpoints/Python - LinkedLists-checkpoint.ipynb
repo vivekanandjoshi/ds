{
 "cells": [
  {
   "cell_type": "markdown",
   "metadata": {},
   "source": [
    "## Linked Lists"
   ]
  },
  {
   "cell_type": "code",
   "execution_count": 1,
   "metadata": {},
   "outputs": [],
   "source": [
    "class Node(object):\n",
    "    \n",
    "    # data is value to be inserted into LinkedList Node\n",
    "    # nextNode is a pointer to next Node. in case of linked List with one element nextNode is None. As in init method.\n",
    "    \n",
    "    def __init__(self, data):\n",
    "        self.data = data\n",
    "        self.nextNode = None\n",
    "        print(\"Insert 2...\", self.data, self.nextNode)\n",
    "        \n",
    "    def remove(self, data, previousNode):\n",
    "        if self.data == data:\n",
    "            print(\"Inside remove I\")\n",
    "            previousNode.nextNode = self.nextNode #Pointer to previousNode is now pointing to next node. \n",
    "            del self.data\n",
    "            del self.nextNode\n",
    "            print(\"Removed I\")\n",
    "        else:\n",
    "            print(\"Inside remove II\")\n",
    "            if self.nextNode is not None:\n",
    "                print(\"Inside remove III\")\n",
    "                self.nextNode.remove(data, self)"
   ]
  },
  {
   "cell_type": "code",
   "execution_count": 2,
   "metadata": {},
   "outputs": [],
   "source": [
    "class LinkedList(object):\n",
    "    \n",
    "    def __init__(self):\n",
    "        self.head = None; #head address for first node. It is null at initialization.\n",
    "        \n",
    "        print(\"1....\", self.head)\n",
    "        \n",
    "        #Counter is current size of Linked List\n",
    "        self.counter = 0\n",
    "     \n",
    "    # O(1)\n",
    "    def insertStart(self, data):\n",
    "        \n",
    "        self.counter +=1\n",
    "        print(\"Insert 1...\")\n",
    "        newNode = Node(data) #NewNode is an instance of class Node.\n",
    "        \n",
    "        if not self.head:\n",
    "            self.head = newNode\n",
    "            print(\"First Element\", self.head) #If no elements in linkedList, newNode is first element\n",
    "        else:            \n",
    "            #Save address of head(first node, head gives reference to first node) into address part of newnode.\n",
    "            newNode.nextNode = self.head\n",
    "            self.head = newNode #head is now pointing to newnode.\n",
    "            print(\"Not first Element\", newNode.nextNode, self.head)\n",
    "            \n",
    "            \n",
    "    # O(1)\n",
    "    def size(self):\n",
    "        return self.counter\n",
    "    \n",
    "    # O(1)\n",
    "    def insertEnd(self, data):\n",
    "        \n",
    "        if self.head is None:\n",
    "            self.insertStart(data)\n",
    "            return\n",
    "        \n",
    "        self.counter +=1\n",
    "        \n",
    "        newNode = Node(data)\n",
    "        actualNode = self.head\n",
    "        \n",
    "        while actualNode.nextNode is not None:\n",
    "            actualNode = actualNode.nextNode\n",
    "            \n",
    "        actualNode.nextNode = newNode\n",
    "        \n",
    "        \n",
    "    # O(N)\n",
    "    def remove(self, data):\n",
    "        \n",
    "        if self.head is None:\n",
    "            print(\"No elements in the list\")\n",
    "            return\n",
    "        \n",
    "        self.counter-=1\n",
    "        if self.head:\n",
    "            print(self.head)            \n",
    "            if data == self.head.data:\n",
    "                print(\"Data Matched\")\n",
    "                self.head = self.head.nextNode\n",
    "            else:\n",
    "                print(\"Data not matched\")\n",
    "                self.head.remove(data, self.head) #Calling remove function of node class.\n",
    "            \n",
    "    # O(N)        \n",
    "    def traverseList(self):\n",
    "        actualNode = self.head\n",
    "        \n",
    "        while actualNode is not None:\n",
    "            print(actualNode.data)\n",
    "            actualNode = actualNode.nextNode"
   ]
  },
  {
   "cell_type": "code",
   "execution_count": 3,
   "metadata": {},
   "outputs": [
    {
     "name": "stdout",
     "output_type": "stream",
     "text": [
      "1.... None\n"
     ]
    }
   ],
   "source": [
    "linkedList = LinkedList()"
   ]
  },
  {
   "cell_type": "code",
   "execution_count": 4,
   "metadata": {},
   "outputs": [
    {
     "name": "stdout",
     "output_type": "stream",
     "text": [
      "Insert 1...\n",
      "Insert 2... 25 None\n",
      "First Element <__main__.Node object at 0x0000000005221A48>\n"
     ]
    }
   ],
   "source": [
    "linkedList.insertStart(25)"
   ]
  },
  {
   "cell_type": "code",
   "execution_count": 5,
   "metadata": {},
   "outputs": [
    {
     "name": "stdout",
     "output_type": "stream",
     "text": [
      "Insert 1...\n",
      "Insert 2... 45 None\n",
      "Not first Element <__main__.Node object at 0x0000000005221A48> <__main__.Node object at 0x0000000004F5D548>\n"
     ]
    }
   ],
   "source": [
    "linkedList.insertStart(45)"
   ]
  },
  {
   "cell_type": "code",
   "execution_count": 6,
   "metadata": {},
   "outputs": [
    {
     "name": "stdout",
     "output_type": "stream",
     "text": [
      "Insert 1...\n",
      "Insert 2... 55 None\n",
      "Not first Element <__main__.Node object at 0x0000000004F5D548> <__main__.Node object at 0x0000000005211448>\n"
     ]
    }
   ],
   "source": [
    "linkedList.insertStart(55)"
   ]
  },
  {
   "cell_type": "code",
   "execution_count": 7,
   "metadata": {},
   "outputs": [
    {
     "name": "stdout",
     "output_type": "stream",
     "text": [
      "Insert 1...\n",
      "Insert 2... 95 None\n",
      "Not first Element <__main__.Node object at 0x0000000005211448> <__main__.Node object at 0x000000000520DB48>\n"
     ]
    }
   ],
   "source": [
    "linkedList.insertStart(95)"
   ]
  },
  {
   "cell_type": "code",
   "execution_count": 8,
   "metadata": {},
   "outputs": [
    {
     "name": "stdout",
     "output_type": "stream",
     "text": [
      "95\n",
      "55\n",
      "45\n",
      "25\n"
     ]
    }
   ],
   "source": [
    "linkedList.traverseList()"
   ]
  },
  {
   "cell_type": "code",
   "execution_count": 9,
   "metadata": {},
   "outputs": [
    {
     "name": "stdout",
     "output_type": "stream",
     "text": [
      "Insert 2... 25 None\n"
     ]
    }
   ],
   "source": [
    "linkedList.insertEnd(25)"
   ]
  },
  {
   "cell_type": "code",
   "execution_count": 10,
   "metadata": {},
   "outputs": [
    {
     "name": "stdout",
     "output_type": "stream",
     "text": [
      "95\n",
      "55\n",
      "45\n",
      "25\n",
      "25\n"
     ]
    }
   ],
   "source": [
    "linkedList.traverseList()"
   ]
  },
  {
   "cell_type": "code",
   "execution_count": 11,
   "metadata": {},
   "outputs": [
    {
     "data": {
      "text/plain": [
       "5"
      ]
     },
     "execution_count": 11,
     "metadata": {},
     "output_type": "execute_result"
    }
   ],
   "source": [
    "linkedList.size()"
   ]
  },
  {
   "cell_type": "code",
   "execution_count": 12,
   "metadata": {},
   "outputs": [
    {
     "name": "stdout",
     "output_type": "stream",
     "text": [
      "<__main__.Node object at 0x000000000520DB48>\n",
      "Data not matched\n",
      "Inside remove II\n",
      "Inside remove III\n",
      "Inside remove II\n",
      "Inside remove III\n",
      "Inside remove I\n",
      "Removed I\n"
     ]
    }
   ],
   "source": [
    "linkedList.remove(45)"
   ]
  },
  {
   "cell_type": "code",
   "execution_count": 13,
   "metadata": {},
   "outputs": [
    {
     "name": "stdout",
     "output_type": "stream",
     "text": [
      "95\n",
      "55\n",
      "25\n",
      "25\n"
     ]
    }
   ],
   "source": [
    "linkedList.traverseList()"
   ]
  },
  {
   "cell_type": "code",
   "execution_count": 14,
   "metadata": {},
   "outputs": [
    {
     "data": {
      "text/plain": [
       "4"
      ]
     },
     "execution_count": 14,
     "metadata": {},
     "output_type": "execute_result"
    }
   ],
   "source": [
    "linkedList.size()"
   ]
  },
  {
   "cell_type": "code",
   "execution_count": 15,
   "metadata": {},
   "outputs": [
    {
     "name": "stdout",
     "output_type": "stream",
     "text": [
      "Insert 2... 40 None\n"
     ]
    }
   ],
   "source": [
    "linkedList.insertEnd(40)"
   ]
  },
  {
   "cell_type": "code",
   "execution_count": 16,
   "metadata": {},
   "outputs": [
    {
     "data": {
      "text/plain": [
       "5"
      ]
     },
     "execution_count": 16,
     "metadata": {},
     "output_type": "execute_result"
    }
   ],
   "source": [
    "linkedList.size()"
   ]
  },
  {
   "cell_type": "code",
   "execution_count": 17,
   "metadata": {},
   "outputs": [
    {
     "name": "stdout",
     "output_type": "stream",
     "text": [
      "<__main__.Node object at 0x000000000520DB48>\n",
      "Data not matched\n",
      "Inside remove II\n",
      "Inside remove III\n",
      "Inside remove II\n",
      "Inside remove III\n",
      "Inside remove I\n",
      "Removed I\n"
     ]
    }
   ],
   "source": [
    "linkedList.remove(25)"
   ]
  },
  {
   "cell_type": "code",
   "execution_count": 18,
   "metadata": {},
   "outputs": [
    {
     "data": {
      "text/plain": [
       "4"
      ]
     },
     "execution_count": 18,
     "metadata": {},
     "output_type": "execute_result"
    }
   ],
   "source": [
    "linkedList.size()"
   ]
  },
  {
   "cell_type": "code",
   "execution_count": null,
   "metadata": {},
   "outputs": [],
   "source": []
  }
 ],
 "metadata": {
  "kernelspec": {
   "display_name": "Python 3",
   "language": "python",
   "name": "python3"
  },
  "language_info": {
   "codemirror_mode": {
    "name": "ipython",
    "version": 3
   },
   "file_extension": ".py",
   "mimetype": "text/x-python",
   "name": "python",
   "nbconvert_exporter": "python",
   "pygments_lexer": "ipython3",
   "version": "3.7.4"
  }
 },
 "nbformat": 4,
 "nbformat_minor": 2
}
